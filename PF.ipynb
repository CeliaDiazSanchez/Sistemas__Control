{
  "nbformat": 4,
  "nbformat_minor": 0,
  "metadata": {
    "colab": {
      "provenance": [],
      "authorship_tag": "ABX9TyPqROmxyCSOYlN+3wzP/xhI",
      "include_colab_link": true
    },
    "kernelspec": {
      "name": "python3",
      "display_name": "Python 3"
    },
    "language_info": {
      "name": "python"
    }
  },
  "cells": [
    {
      "cell_type": "markdown",
      "metadata": {
        "id": "view-in-github",
        "colab_type": "text"
      },
      "source": [
        "<a href=\"https://colab.research.google.com/github/CeliaDiazSanchez/Sistemas__Control/blob/Practica_final/PF.ipynb\" target=\"_parent\"><img src=\"https://colab.research.google.com/assets/colab-badge.svg\" alt=\"Open In Colab\"/></a>"
      ]
    },
    {
      "cell_type": "markdown",
      "source": [
        "#**PROYECTO FINAL SISTEMAS DE CONTROL Inverted Pendulum Stabilization using PID Control [Proyecto Final]**\n",
        "\n",
        "Celia Díaz Sánchez\n",
        "Ingeniería Matemática 3B\n",
        "\n"
      ],
      "metadata": {
        "id": "puot_0-62Eum"
      }
    },
    {
      "cell_type": "markdown",
      "source": [
        "## **Objetivo del proyecto**"
      ],
      "metadata": {
        "id": "6XNBjrSP2yiO"
      }
    },
    {
      "cell_type": "markdown",
      "source": [
        "El objetivo del proyecto final es diseñar y simular un sistema de control para estabilizar un péndulo invertido utilizando un controlador PID (Proporcional-Integral-Derivativo) en Python, mientras se exploran temas adicionales relacionados con el tema."
      ],
      "metadata": {
        "id": "ddNtxBkIxCvC"
      }
    },
    {
      "cell_type": "markdown",
      "source": [
        "El problema que abordaremos es estabilizar un péndulo invertido utilizando un controlador PID. Comenzaremos definiendo el modelo del péndulo y luego diseñaremos un controlador PID utilizando diferentes métodos de sintonización, como Ziegler-Nichols o Cohen-Coon. Luego, analizaremos la estabilidad del sistema utilizando criterios como la ubicación de los polos del sistema o el criterio de Routh-Hurwitz. Finalmente, visualizaremos la respuesta del sistema en lazo cerrado, evaluando su estabilidad y desempeño."
      ],
      "metadata": {
        "id": "qG06A5qg-O8e"
      }
    },
    {
      "cell_type": "markdown",
      "source": [
        "## **Modelar el sistema**"
      ],
      "metadata": {
        "id": "bUZal4iW3ElN"
      }
    },
    {
      "cell_type": "markdown",
      "source": [
        "El sistema de péndulo invertido puede modelarse utilizando las siguientes ecuaciones de\n",
        "movimiento:"
      ],
      "metadata": {
        "id": "p55YVXqX_Q0W"
      }
    },
    {
      "cell_type": "markdown",
      "source": [
        "![image.png](data:image/png;base64,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)"
      ],
      "metadata": {
        "id": "sOuZ4EZ1_MC5"
      }
    },
    {
      "cell_type": "markdown",
      "source": [
        "donde θ es el ángulo del péndulo, ω es la velocidad angular, g es la aceleración debida a la gravedad, l es la longitud del péndulo, m es la masa del péndulo y u es la entrada de control.\n",
        "y u es la entrada de control.\n",
        "Linealizando el modelo alrededor del punto de equilibrio (θ = 0, ω = 0) y\n",
        "aplicando Laplace, obtenemos la función de transferencia:"
      ],
      "metadata": {
        "id": "WbznUiMh_UuE"
      }
    },
    {
      "cell_type": "markdown",
      "source": [
        "![image.png](data:image/png;base64,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)"
      ],
      "metadata": {
        "id": "jkSgAZAO_Z73"
      }
    },
    {
      "cell_type": "markdown",
      "source": [
        "Cargamos la librerias necesariás y los datos para poder hacer el problema."
      ],
      "metadata": {
        "id": "zZjjsckmezvA"
      }
    },
    {
      "cell_type": "code",
      "execution_count": 2,
      "metadata": {
        "colab": {
          "base_uri": "https://localhost:8080/"
        },
        "id": "9UPj8xqYssqZ",
        "outputId": "73cbd2d4-7726-4128-9f00-fb7108f18ccd"
      },
      "outputs": [
        {
          "output_type": "stream",
          "name": "stdout",
          "text": [
            "Collecting control\n",
            "  Downloading control-0.10.0-py3-none-any.whl (513 kB)\n",
            "\u001b[2K     \u001b[90m━━━━━━━━━━━━━━━━━━━━━━━━━━━━━━━━━━━━━━━━\u001b[0m \u001b[32m513.9/513.9 kB\u001b[0m \u001b[31m5.5 MB/s\u001b[0m eta \u001b[36m0:00:00\u001b[0m\n",
            "\u001b[?25hRequirement already satisfied: numpy>=1.23 in /usr/local/lib/python3.10/dist-packages (from control) (1.25.2)\n",
            "Requirement already satisfied: scipy>=1.8 in /usr/local/lib/python3.10/dist-packages (from control) (1.11.4)\n",
            "Requirement already satisfied: matplotlib>=3.6 in /usr/local/lib/python3.10/dist-packages (from control) (3.7.1)\n",
            "Requirement already satisfied: contourpy>=1.0.1 in /usr/local/lib/python3.10/dist-packages (from matplotlib>=3.6->control) (1.2.1)\n",
            "Requirement already satisfied: cycler>=0.10 in /usr/local/lib/python3.10/dist-packages (from matplotlib>=3.6->control) (0.12.1)\n",
            "Requirement already satisfied: fonttools>=4.22.0 in /usr/local/lib/python3.10/dist-packages (from matplotlib>=3.6->control) (4.51.0)\n",
            "Requirement already satisfied: kiwisolver>=1.0.1 in /usr/local/lib/python3.10/dist-packages (from matplotlib>=3.6->control) (1.4.5)\n",
            "Requirement already satisfied: packaging>=20.0 in /usr/local/lib/python3.10/dist-packages (from matplotlib>=3.6->control) (24.0)\n",
            "Requirement already satisfied: pillow>=6.2.0 in /usr/local/lib/python3.10/dist-packages (from matplotlib>=3.6->control) (9.4.0)\n",
            "Requirement already satisfied: pyparsing>=2.3.1 in /usr/local/lib/python3.10/dist-packages (from matplotlib>=3.6->control) (3.1.2)\n",
            "Requirement already satisfied: python-dateutil>=2.7 in /usr/local/lib/python3.10/dist-packages (from matplotlib>=3.6->control) (2.8.2)\n",
            "Requirement already satisfied: six>=1.5 in /usr/local/lib/python3.10/dist-packages (from python-dateutil>=2.7->matplotlib>=3.6->control) (1.16.0)\n",
            "Installing collected packages: control\n",
            "Successfully installed control-0.10.0\n"
          ]
        }
      ],
      "source": [
        "!pip install control\n",
        "\n",
        "import numpy as np\n",
        "import control as ctrl\n",
        "g = 9.81 # gravity (m/s^2)\n",
        "l = 1.0 # length of the pendulum (m)\n",
        "m = 1.0 # mass of the pendulum (kg)\n",
        "# Transfer function G(s) = 1 / (s^2 - g/l)\n",
        "num = [1]\n",
        "den = [1, 0, -g/l]\n"
      ]
    },
    {
      "cell_type": "markdown",
      "source": [
        "La función ctrl.TransferFunction(num, den) toma estos coeficientes y los utiliza para construir un objeto TransferFunction, que es una representación de la función de transferencia del sistema en el dominio de Laplace."
      ],
      "metadata": {
        "id": "u6fGXx3ZfSnW"
      }
    },
    {
      "cell_type": "code",
      "source": [
        "G = ctrl.TransferFunction(num, den)"
      ],
      "metadata": {
        "id": "d9DE8arvfUSD"
      },
      "execution_count": 3,
      "outputs": []
    },
    {
      "cell_type": "markdown",
      "source": [
        "## **Analizar la estabilidad del sistema inicial**\n"
      ],
      "metadata": {
        "id": "0hHRRqBf3NdT"
      }
    },
    {
      "cell_type": "markdown",
      "source": [
        "### **Mediante los polos**"
      ],
      "metadata": {
        "id": "mLL4kh7-3mGw"
      }
    },
    {
      "cell_type": "markdown",
      "source": [
        "Calculamos los polos de la función de la transformada, para ver si el sistema es estable o no."
      ],
      "metadata": {
        "id": "pX-E7N6-fXYD"
      }
    },
    {
      "cell_type": "code",
      "source": [
        "poles = ctrl.poles(G)\n",
        "print(\"Polos del sistema:\", poles)"
      ],
      "metadata": {
        "colab": {
          "base_uri": "https://localhost:8080/"
        },
        "id": "6_p_TC_7sxOF",
        "outputId": "6f01e2e6-5834-4358-f452-92cabeef0fbc"
      },
      "execution_count": 4,
      "outputs": [
        {
          "output_type": "stream",
          "name": "stdout",
          "text": [
            "Polos del sistema: [-3.13209195+0.j  3.13209195+0.j]\n"
          ]
        }
      ]
    },
    {
      "cell_type": "markdown",
      "source": [
        "Los polos son puntos en el plano complejo que determinan el comportamiento dinámico del sistema.\n",
        "\n",
        "En este caso, los polos del sistema son\n",
        "-3.13209195+0j y 3.13209195+0j, lo que indica que ambos son reales y no tienen una parte imaginaria (representada por\n",
        "0j). Este sistema tiene dos polos en el eje real, lo que sugiere que es un sistema lineal, y que ambos polos tienen la misma parte real pero de signo opuesto.\n",
        "\n",
        "Analizamos los polos, una de los polos tiene parte real negativa, lo que significa que uno está a la izquierda del eje imaginario y el otro a la derecha.\n",
        "\n",
        "Como resultado, el sistema es inestable, ya que tiene al menos un polo con parte real positiva."
      ],
      "metadata": {
        "id": "DSPK28y0frS5"
      }
    },
    {
      "cell_type": "markdown",
      "source": [
        "### **Método de Routh_Hurwitz**"
      ],
      "metadata": {
        "id": "p7hI0dif3rNH"
      }
    },
    {
      "cell_type": "markdown",
      "source": [
        "La estabilidad del sistema de bucle abierto puede analizarse mediante Routh-Hurwitz\n",
        "La ecuación característica del sistema es:"
      ],
      "metadata": {
        "id": "k9J6BLXm_m9L"
      }
    },
    {
      "cell_type": "markdown",
      "source": [
        "![image.png](data:image/png;base64,iVBORw0KGgoAAAANSUhEUgAAAIIAAAA3CAYAAADABJI7AAAAAXNSR0IArs4c6QAAAARnQU1BAACxjwv8YQUAAAAJcEhZcwAADsMAAA7DAcdvqGQAAAZ5SURBVHhe7dsLTFNXGAfwPxRfIM7hBAxRpxgVFF+gogjia3Pq5nDqNJuYhakwYwziNDM+kPlgTgEVZU4zmMSpQ6fDbj7BUVSYoIiA4mOOh+2sRRSk0krvPSvXw9SEOXW2l+ScX9LA+e5taE/+vfe7h14bYgaOebb0J8c4HgROwoPASXgQOAkPAifhQeAkPAichAeBk/AgcBIeBE7CdBCM2gKk/5qBq/cEWmEXm0EQdVCtnoJp0Xlo1aUNzsXNwZheAVhVaKI7sIfBIBiQu+Z9zMwajZj1wRji0R+ThrfCjYqO8HjTju7DHuaCIGp2YWVsCQJnf4QuivqKAE3eRVT288dQe2kXJjEXhKoTSmSIvhgd0LqhgszMQnQb5o/2DHdM8r118R7y98Vjw/o1WLpwCTanlcJIN1mOgEqtDoJ7X/RtyIEhG6pcJ/j6dwO7JwbZgiBCvWcN9tlPR7g5BFELvZEb+hbCj96n2y1FAbcBfeDW3A4Km/qxEcWJW6A0+CDAu4W0B6tkCoIJpReOYv/xAtSZR7au72Bcfx0y0i892mxBLUcsxcbRN5Cwfiu2btyEFFUpHpj7Az8HugOr6r+qJjtDNlns1YkE/1RJC9ZSSZKD2hHvFRdJHa1YVx0xGEz0d3k1gfaoBtnRkcgdvwNfT3yd1ixD1KQhLjIR5wx0fOsXHDzbCeMmeFi3PzBeR8qyBYj69gfs3rEW8z6LhLJM5kUtGgiZVJPchPkkfPsFUi0YSHW1gdYt407SROLULZQo7wpEX3KcrA4KIFPjz5Maut06DCRnuS/xXZZLjLSiVy0gA0esIwXyHJYkMgbhHslJjCKb0/8ignkk3EomaxOuPdpkKabbJF+ZTLZv20F2phwjeRrLBq9R1QdIsFsvsiirIQZmhhMkrEtXEna8lhaszypBEO5eIRkH95AflWfJTWnuTeRS/NvE2c6O2NGHrcKZzPxZvomwFuPpCNK91XASU1Iff8pUSKJ8WpF+y/Nk6lWs0CPoc2Iwa/FRiF4jEdizAonLt6NYUMBj7hFo6+pQRx+CSYuk91rSZzVRpipo1WqUl5c/+6HWQFfT+Dlf1GpRQVrA3v6JqbdxgIO9CE1Zufl6Sh6WvcFF1CFx8lgUhGchxr85HmaEY9DC1vjm9JfwbU73saLa2lpUVlbSUeNcXFxgPkLR0dP0Z7bgi6R8mI9btPIvbGzRLmA+oj/2pIXH9MlBaD/LgDj1YcxuR4tiGTaO6o4VLsnQ7JkCOVa6LRyEMsSP8cRy7UhMmzoe4z74EON6tX2JxQsBfxyKw86cexCf9Wpt7OA2MhSzA10a/RupqakICwujo8alp6ejR48edPTqPdg1Ce1D9NhQdhihzvRViiWIGdET67qmoCTxXchxXLT4LW/G6wewJmorDv32Owp0HfBpSha2THB64TA8UBeiSK3/jyAo0PbNPujhLMPh5jkZj8yGe9BVRBSnI7wznQXhElYP8UaS3zEUxfpDjldvuSCIt3Dqu924NXQuJnua35p4G8o5/ohw2I6CuABZ3uz/VaNah9DYM7j/zDSamQPpOn4lts3yooXHRE0CxvZMwMD081jtQ09BxpOY5zEJpcuuIvWT9o9q1lYfBEswXfuKBLoMIJ+nNVylG8jpRaNJyMG7dMwoQUOSgjqSsVtvSpfN9UzF0cSv83SyV/vElYSVKSLNaCZeKds27dCijsDRUYFa3WVk7v8eJ9uEYEVwTzhI//CRl6jNxu7EXTigVKHCbSg833jxzuWl2DjCa1AHnIrdhusuveDe7BK2LUmGfcQmLPBpC7mmxsI9gglV6msovaOAs3s3uDpYabKfh16N/GPRmDGjECFFaZjfcL62FoMGOScyUFzTFl6Bo9DPVd6TpcWbxaZMfzAY3SM7ITV3FbxZ/jKCWRP6iFrbQ+SpzqLZoGHozXgI6rEbBOEGVGfuwHv4YLD9lZRHmA2CWKFC5pXe8B/2Gq2wjdkg1J7ORH5nPwxzY/js+ARGZ+EhzvH+4ClsBkG4DlWWuT8IGCzLun5TxGQQRF0mTl2t7w8ccedsFi6ze6fbP5gMQl1RPq4594ePqw6HM4rQsgmsdMqNySA08/THUKfbOLd3J3SeE9BZuvWNbcyuLApVZfizxgld3Vqz2jE/heklZu4x/mHgJDwInIQHgZPwIHASHgROwoPASXgQOAkPAifhQeAkPAichAeBMwP+Bn2Jr41QY7sxAAAAAElFTkSuQmCC)"
      ],
      "metadata": {
        "id": "7trlHQn2_hu0"
      }
    },
    {
      "cell_type": "markdown",
      "source": [
        "Para que el sistema sea estable, todas las raíces de la ecuación característica deben\n",
        "tener partes reales negativas. El rango de parámetros del sistema para la estabilidad puede\n",
        "determinarse en consecuencia."
      ],
      "metadata": {
        "id": "4EE68dKK_rDv"
      }
    },
    {
      "cell_type": "markdown",
      "source": [
        "Usamos el metodo de Routh_hurwitz para ver la estavilidad, y ver si nos da el mismo resultado que usando los polos."
      ],
      "metadata": {
        "id": "B5GsJpwFguC4"
      }
    },
    {
      "cell_type": "markdown",
      "source": [
        "El criterio de Routh-Hurwitz es un método utilizado para determinar la estabilidad de un sistema dinámico lineal a partir de los coeficientes de su ecuación característica. El criterio  evalua la ubicación de los polos del sistema en el plano complejo sin necesidad de calcularlos directamente.\n",
        "\n",
        "El criterio de Routh-Hurwitz establece que un sistema es estable si todos los coeficientes de la primera columna del cuadro de Routh tienen el mismo signo. Si algunos de estos coeficientes tienen signo diferente, el sistema es inestable. Además, el número de raíces con parte real positiva es igual al número de cambios de signo en la primera columna del cuadro de Routh."
      ],
      "metadata": {
        "id": "czh4eDflhIsx"
      }
    },
    {
      "cell_type": "code",
      "source": [
        "def routh_hurwitz(den):\n",
        "    n = len(den)\n",
        "    m = (n - 1) // 2 + 1\n",
        "    rh_table = np.zeros((m, n))\n",
        "\n",
        "    # Llenar la primera fila del cuadro de Routh\n",
        "    rh_table[0, :n] = den[::2] if n % 2 == 0 else den\n",
        "\n",
        "    # Llenar las filas restantes del cuadro de Routh\n",
        "    for i in range(1, m):\n",
        "        for j in range(n):\n",
        "            if j >= 2 * i:\n",
        "                rh_table[i, j] = rh_table[i - 1, j - 2] if rh_table[i - 1, j - 2] != 0 else 1e-12\n",
        "\n",
        "    # Verificar la estabilidad\n",
        "    sign_changes = np.sum(np.diff(np.sign(rh_table[:, 0])))\n",
        "\n",
        "    if sign_changes == 0:\n",
        "        print(\"El sistema es estable por el criterio de Routh-Hurwitz.\")\n",
        "    else:\n",
        "        print(\"El sistema es inestable por el criterio de Routh-Hurwitz.\")\n",
        "\n",
        "    return rh_table"
      ],
      "metadata": {
        "id": "QsNymDpXzflp"
      },
      "execution_count": 5,
      "outputs": []
    },
    {
      "cell_type": "code",
      "source": [
        "rh_table = routh_hurwitz(den)\n",
        "print(\"Cuadro de Routh:\")\n",
        "print(rh_table)"
      ],
      "metadata": {
        "id": "-guOmB4U2YuE",
        "outputId": "af05a15e-2f3a-4c6d-ec1e-b4c270eee058",
        "colab": {
          "base_uri": "https://localhost:8080/"
        }
      },
      "execution_count": 6,
      "outputs": [
        {
          "output_type": "stream",
          "name": "stdout",
          "text": [
            "El sistema es inestable por el criterio de Routh-Hurwitz.\n",
            "Cuadro de Routh:\n",
            "[[ 1.    0.   -9.81]\n",
            " [ 0.    0.    1.  ]]\n"
          ]
        }
      ]
    },
    {
      "cell_type": "markdown",
      "source": [
        "Podemos ver con esa tabla solución de utilizar el método, al tener un cambio de signo en la primera columna, esto significa que el sistema es inertable\n",
        "según el criterio de Routh-Hurwitz.\n",
        "\n",
        "Concluimos que ambos métodos nos da el mimso resultado, no es establa."
      ],
      "metadata": {
        "id": "ayexSwH4g9LL"
      }
    },
    {
      "cell_type": "markdown",
      "source": [
        "## **Diseño de controladores PID y simulación**"
      ],
      "metadata": {
        "id": "yFeHkgKn4BlW"
      }
    },
    {
      "cell_type": "markdown",
      "source": [
        "El controlador PID puede diseñarse utilizando la siguiente ley de control:"
      ],
      "metadata": {
        "id": "z4mTNOQ2_4ce"
      }
    },
    {
      "cell_type": "markdown",
      "source": [
        "![image.png](data:image/png;base64,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)"
      ],
      "metadata": {
        "id": "OVt6BKDS_7bR"
      }
    },
    {
      "cell_type": "markdown",
      "source": [
        "donde e(t) = θd -θ(t) es la señal de error, θd es el ángulo deseado (consigna), y\n",
        "Kp, Ki\n",
        "y Kd son las ganancias proporcional, integral y derivativa, respectivamente.\n",
        "Las ganancias pueden determinarse mediante técnicas como la de Ziegler-Nichols o ajustándolas manualmente para alcanzar el valor deseado.\n",
        "manualmente para lograr el rendimiento deseado."
      ],
      "metadata": {
        "id": "_is3CPg8__Rc"
      }
    },
    {
      "cell_type": "markdown",
      "source": [
        "Primer ejemplo con los valores dados en el enunciado de la práctica"
      ],
      "metadata": {
        "id": "XZYhWx6C4d5O"
      }
    },
    {
      "cell_type": "code",
      "source": [
        "Kp = 10.0\n",
        "Ki = 1.0\n",
        "Kd = 2.0\n",
        "# PID controller\n",
        "controller = ctrl.TransferFunction([Kd, Kp, Ki], [1, 0])\n",
        "import matplotlib.pyplot as plt\n",
        "# Closed-loop system\n",
        "closed_loop = ctrl.feedback(G * controller)\n",
        "# Time response\n",
        "t, y = ctrl.step_response(closed_loop)\n",
        "# Plotting\n",
        "plt.plot(t, y)\n",
        "plt.xlabel('Time (s)')\n",
        "plt.ylabel('Angle (rad)')\n",
        "plt.title('Step Response of Closed-Loop System')\n",
        "plt.grid(True)\n",
        "plt.show()"
      ],
      "metadata": {
        "id": "gLu1EOjPko2I",
        "outputId": "555107fd-8286-4fb6-9962-cf587a806350",
        "colab": {
          "base_uri": "https://localhost:8080/",
          "height": 472
        }
      },
      "execution_count": 7,
      "outputs": [
        {
          "output_type": "display_data",
          "data": {
            "text/plain": [
              "<Figure size 640x480 with 1 Axes>"
            ],
            "image/png": "[encoded data removed]"
          },
          "metadata": {}
        }
      ]
    },
    {
      "cell_type": "markdown",
      "source": [
        "Podemos observar en la gráfica que no se llega a estavilizar con esos valores de las diferentes K."
      ],
      "metadata": {
        "id": "cL6V5mGl4pds"
      }
    },
    {
      "cell_type": "code",
      "source": [
        "# Obtener los polos del sistema en lazo cerrado\n",
        "poles_closed_loop = ctrl.poles(closed_loop)\n",
        "print(\"Polos del sistema:\", poles_closed_loop)"
      ],
      "metadata": {
        "colab": {
          "base_uri": "https://localhost:8080/"
        },
        "id": "zO7Qk32E44kb",
        "outputId": "2bd3f502-9130-4179-d77e-e594a2bb194e"
      },
      "execution_count": 8,
      "outputs": [
        {
          "output_type": "stream",
          "name": "stdout",
          "text": [
            "Polos del sistema: [-2.1310412+0.j          0.0655206+0.68188066j  0.0655206-0.68188066j]\n"
          ]
        }
      ]
    },
    {
      "cell_type": "markdown",
      "source": [
        "Vemos que como habíamos visto en la gráfica es sistema no es estable, ya que no todas las polos tiene su parte real negativa."
      ],
      "metadata": {
        "id": "fw1yt1mz5jNh"
      }
    },
    {
      "cell_type": "markdown",
      "source": [
        "### **Ziegler_Nichols**"
      ],
      "metadata": {
        "id": "l5znIO984H57"
      }
    },
    {
      "cell_type": "markdown",
      "source": [
        "Como nos encontramos ante un sistema no estable usamos Ziegler_Nichols, para intentar estabilizarlo.\n",
        "\n",
        "El método de Ziegler-Nichols es una técnica de sintonización de controladores PID ampliamente utilizada en ingeniería de control. Fue propuesto por John G. Ziegler y Nathaniel B. Nichols en 1942. El objetivo de este método es establecer los parámetros del controlador proporcional (KP), integral (KI) y derivativo (KD) para un sistema de control en lazo cerrado de manera rápida y eficiente.\n",
        "\n",
        "Utiliza dos tipos de pruebas de respuesta del sistema: la prueba de respuesta al escalón y la prueba de respuesta a la onda cuadrada. A partir de los resultados de estas pruebas, se obtienen los parámetros del controlador PID de la siguiente manera:\n",
        "\n",
        "Se compone de tres etapas principales para la sintonización de un controlador PID. En primer lugar, en la etapa del Controlador Proporcional (P), se incrementa gradualmente la ganancia proporcional\n",
        "Kp hasta que el sistema se vuelva marginalmente estable, observando oscilaciones alrededor de un valor constante. El valor de Kp en el cual comienza esta oscilación se registra como Ku.\n",
        "\n",
        "En la etapa siguiente, del Controlador Proporcional - Integral (PI), se calcula el periodo de oscilación del sistema\n",
        "Pu a partir de Ku. Luego, se determinan los parámetros Kp y Ki utilizando diferentes reglas derivadas de Ziegler-Nichols, como la Regla de Cohen-Coon o la Regla de modificación de Ziegler-Nichols, adaptadas a las características específicas del sistema.\n",
        "\n",
        "Finalmente, en la etapa del Controlador Proporcional - Integral - Derivativo (PID), se incorpora una acción derivativa al controlador PI para mejorar la respuesta transitoria y la estabilidad del sistema. Los parámetros Kd se calculan utilizando reglas derivadas de Ziegler-Nichols diseñadas para controladores PID, completando así la sintonización del controlador PID."
      ],
      "metadata": {
        "id": "CvbRqm_82nEQ"
      }
    },
    {
      "cell_type": "code",
      "source": [
        "def ziegler_nichols(G):\n",
        "    # Realizar un experimento con una entrada de paso unitario\n",
        "    t, y = ctrl.step_response(G)\n",
        "\n",
        "    # Calcular el tiempo de subida (tr)\n",
        "    tr_index = np.argmax(y > 0.9 * y[-1])  # Índice del primer punto que alcanza el 90% del valor final\n",
        "    tr = t[tr_index] - t[0]  # Tiempo transcurrido desde el inicio hasta el punto\n",
        "\n",
        "    # Calcular el tiempo de establecimiento (ts)\n",
        "    ts_index = np.where(np.abs(y - y[-1]) <= 0.02 * np.abs(y[-1]))[0][0]\n",
        "    ts = t[ts_index] - t[0]  # Tiempo transcurrido desde el inicio hasta el punto\n",
        "\n",
        "    # Calcular el máximo sobrepaso (Mp)\n",
        "    Mp = np.max(y) - y[-1]\n",
        "    # Si Mp es cero, asigna un valor predeterminado pequeño para evitar división por cero\n",
        "    if Mp == 0:\n",
        "        Mp = 0.01\n",
        "\n",
        "    # Determinar los valores de los parámetros PID según las reglas de Ziegler-Nichols\n",
        "    Kp = 0.6 / Mp\n",
        "    Ki = 2 * Kp / (0.5 * tr)\n",
        "    Kd = Kp * (0.125 * tr)\n",
        "\n",
        "    # Devolver los valores calculados\n",
        "    return Kp, Ki, Kd\n"
      ],
      "metadata": {
        "id": "F31TxO7g6n8l"
      },
      "execution_count": 9,
      "outputs": []
    },
    {
      "cell_type": "markdown",
      "source": [
        "Obtén los valores iniciales de los parámetros PID, mediante Ziegler_Nichols."
      ],
      "metadata": {
        "id": "vFLXyuzIi0dq"
      }
    },
    {
      "cell_type": "code",
      "source": [
        "# Obtén los valores iniciales de los parámetros PID\n",
        "Kp1, Ki1, Kd1 = ziegler_nichols(G)\n",
        "if Kp1 is not None and Ki1 is not None and Kd1 is not None:\n",
        "    print(\"Valores iniciales de los parámetros PID:\")\n",
        "    print(\"Kp:\", Kp1)\n",
        "    print(\"Ki:\", Ki1)\n",
        "    print(\"Kd:\", Kd1)\n",
        "else:\n",
        "    print(\"Error: No se pudieron calcular los valores iniciales de los parámetros PID.\")"
      ],
      "metadata": {
        "id": "Bfosq1l46rlB",
        "outputId": "798e78c3-c3cf-4ff1-8994-8029dc7eff0f",
        "colab": {
          "base_uri": "https://localhost:8080/"
        }
      },
      "execution_count": 10,
      "outputs": [
        {
          "output_type": "stream",
          "name": "stdout",
          "text": [
            "Valores iniciales de los parámetros PID:\n",
            "Kp: 60.0\n",
            "Ki: 109.93042851762786\n",
            "Kd: 16.373992390208517\n"
          ]
        }
      ]
    },
    {
      "cell_type": "markdown",
      "source": [
        "Cremaos un controlador PID con los coeficientes especificados y representa su función de transferencia en el dominio de Laplace. Este controlador se puede utilizar luego en lazo cerrado con el sistema de planta para formar un sistema de control completo.\n",
        "\n",
        "Posteriosmente usando el lazo cerrado lo graficamos."
      ],
      "metadata": {
        "id": "Skv9rKDBi-ry"
      }
    },
    {
      "cell_type": "code",
      "source": [
        "# PID controller\n",
        "controller1 = ctrl.TransferFunction([Kd1, Kp1, Ki1], [1, 0])"
      ],
      "metadata": {
        "id": "BZsrjc0zs1KQ"
      },
      "execution_count": 11,
      "outputs": []
    },
    {
      "cell_type": "code",
      "source": [
        "import matplotlib.pyplot as plt\n",
        "# Sistema en lazo cerrado\n",
        "closed_loop1 = ctrl.feedback(G * controller1)\n",
        "# Simulación de la respuesta del sistema en lazo cerrado\n",
        "t1, y1 = ctrl.step_response(closed_loop1)\n",
        "\n",
        "# Verificar estabilidad: Observar si la respuesta es acotada y no crece indefinidamente\n",
        "plt.plot(t1, y1)\n",
        "plt.xlabel('Tiempo (s)')\n",
        "plt.ylabel('Respuesta del Sistema')\n",
        "plt.title('Respuesta del Sistema en Lazo Cerrado')\n",
        "plt.grid(True)\n",
        "plt.show()"
      ],
      "metadata": {
        "colab": {
          "base_uri": "https://localhost:8080/",
          "height": 472
        },
        "id": "CNBmezE_s82l",
        "outputId": "d7083001-ef39-4875-8e93-70a2fbd7dd93"
      },
      "execution_count": 12,
      "outputs": [
        {
          "output_type": "display_data",
          "data": {
            "text/plain": [
              "<Figure size 640x480 with 1 Axes>"
            ],
            "image/png": "[encoded data removed]"
          },
          "metadata": {}
        }
      ]
    },
    {
      "cell_type": "markdown",
      "source": [
        "En la gráfica obserbamos:\n",
        "1. El sistema inicialmente se encuentra en el equilibrio (valor de salida 0).\n",
        "2. Al aplicar el escalón de entrada, la respuesta del sistema comienza a aumentar.\n",
        "3. La respuesta del sistema alcanza un máximo de 1.2 antes de comenzar a converger hacia el valor de estado estable.\n",
        "3. Finalmente, el sistema alcanza un estado estable donde la respuesta se estabiliza en 1, lo que indica que el sistema ha alcanzado su nueva posición de equilibrio después de la perturbación inicial.\n",
        "\n",
        "Podemos concluir que la respuesta del sistema es estable, ya que se estabiliza en un valor específico, 1 después de la transición inicial. Esto indica que el sistema ha alcanzado un equilibrio y su comportamiento es predecible y controlado usando el método de Ziegler_Nichols."
      ],
      "metadata": {
        "id": "FCnaTCfqjN5X"
      }
    },
    {
      "cell_type": "code",
      "source": [
        "# Obtener los polos del sistema en lazo cerrado\n",
        "polos1 = ctrl.poles(closed_loop1)\n",
        "print(\"Polos del sistema:\", polos1)"
      ],
      "metadata": {
        "id": "tzidMdoLua8K",
        "outputId": "a4e84523-c37a-4850-893f-4f9705d54d9b",
        "colab": {
          "base_uri": "https://localhost:8080/"
        }
      },
      "execution_count": 13,
      "outputs": [
        {
          "output_type": "stream",
          "name": "stdout",
          "text": [
            "Polos del sistema: [-13.203261 +0.j          -1.5853657+2.41093788j  -1.5853657-2.41093788j]\n"
          ]
        }
      ]
    },
    {
      "cell_type": "markdown",
      "source": [
        "Vemos que todos los polos tiene su parte real negativa, por lo tanto es estable como se ve en la gráfica, se ha estavilizado en 1."
      ],
      "metadata": {
        "id": "dA_mACNz50Sw"
      }
    },
    {
      "cell_type": "markdown",
      "source": [
        "### **Cohen Coon**"
      ],
      "metadata": {
        "id": "WMwQ2Kw-5_j5"
      }
    },
    {
      "cell_type": "markdown",
      "source": [
        "Usamos el método de Cohen Coon, para ver si se estaviliza de la misma forma que con el método anterior."
      ],
      "metadata": {
        "id": "Z-EopuvfqG0o"
      }
    },
    {
      "cell_type": "markdown",
      "source": [
        "El método de Cohen-Coon es una técnica para ajustar los parámetros de un controlador PID. Se basa en realizar una prueba de respuesta al escalón para determinar dos parámetros clave del sistema: el tiempo de retardo (tau) y el coeficiente de tiempo integral (L). Luego, se calculan los parámetros \\(K_p\\) y \\(K_i\\) del controlador proporcional-integral (PI) utilizando fórmulas simples basadas en estos valores. Finalmente, la ganancia derivativa \\(K_d\\) se ajusta según necesidad, generalmente de forma manual o mediante otros métodos de sintonización. Este método es fácil de implementar y puede proporcionar una buena aproximación inicial de los parámetros del controlador PID."
      ],
      "metadata": {
        "id": "H141Mc0uqfzp"
      }
    },
    {
      "cell_type": "code",
      "source": [
        "def cohen_coon(G):\n",
        "    # Paso 1: Sintonización del controlador proporcional (Kp)\n",
        "    Kp = 0.6 / G.dcgain()\n",
        "\n",
        "    # Paso 2: Sintonización del controlador integral (Ki)\n",
        "    poles = ctrl.poles(G)\n",
        "    tau = -1 / np.real(poles[0])  # Tiempo constante del proceso\n",
        "    Ki = Kp / (0.5 * tau)\n",
        "\n",
        "    # Paso 3: Sintonización del controlador derivativo (Kd)\n",
        "    td = 0.5 * tau\n",
        "    Kd = Kp * (0.125 * tau)\n",
        "\n",
        "    return Kp, Ki, Kd"
      ],
      "metadata": {
        "id": "17FxTEv27Sb9"
      },
      "execution_count": 14,
      "outputs": []
    },
    {
      "cell_type": "code",
      "source": [
        "# Obtén los valores iniciales de los parámetros PID\n",
        "Kp2, Ki2, Kd2 = cohen_coon(G)\n",
        "if Kp2 is not None and Ki2 is not None and Kd2 is not None:\n",
        "    print(\"Valores iniciales de los parámetros PID:\")\n",
        "    print(\"Kp:\", Kp2)\n",
        "    print(\"Ki:\", Ki2)\n",
        "    print(\"Kd:\", Kd2)\n",
        "else:\n",
        "    print(\"Error: No se pudieron calcular los valores iniciales de los parámetros PID.\")"
      ],
      "metadata": {
        "id": "0kBW-nnN7Xwe",
        "outputId": "c46ea7e4-929c-4bd6-d6d9-fd5c42d5309c",
        "colab": {
          "base_uri": "https://localhost:8080/"
        }
      },
      "execution_count": 15,
      "outputs": [
        {
          "output_type": "stream",
          "name": "stdout",
          "text": [
            "Valores iniciales de los parámetros PID:\n",
            "Kp: -5.886\n",
            "Ki: -36.8709864668685\n",
            "Kd: -0.2349068964504874\n"
          ]
        }
      ]
    },
    {
      "cell_type": "code",
      "source": [
        "# PID controller\n",
        "controller2 = ctrl.TransferFunction([Kd2, Kp2, Ki2], [1, 0])"
      ],
      "metadata": {
        "id": "6kdaNQj_8AY2"
      },
      "execution_count": 16,
      "outputs": []
    },
    {
      "cell_type": "code",
      "source": [
        "import matplotlib.pyplot as plt\n",
        "# Sistema en lazo cerrado\n",
        "closed_loop2 = ctrl.feedback(G * controller2)\n",
        "# Simulación de la respuesta del sistema en lazo cerrado\n",
        "t2, y2 = ctrl.step_response(closed_loop2)\n",
        "\n",
        "# Verificar estabilidad: Observar si la respuesta es acotada y no crece indefinidamente\n",
        "plt.plot(t2, y2)\n",
        "plt.xlabel('Tiempo (s)')\n",
        "plt.ylabel('Respuesta del Sistema')\n",
        "plt.title('Respuesta del Sistema en Lazo Cerrado')\n",
        "plt.grid(True)\n",
        "plt.show()"
      ],
      "metadata": {
        "id": "ojwwZsD98DV_",
        "outputId": "6293e785-6c53-4b7b-90e5-39e0e2f74e0d",
        "colab": {
          "base_uri": "https://localhost:8080/",
          "height": 472
        }
      },
      "execution_count": 17,
      "outputs": [
        {
          "output_type": "display_data",
          "data": {
            "text/plain": [
              "<Figure size 640x480 with 1 Axes>"
            ],
            "image/png": "[encoded data removed]"
          },
          "metadata": {}
        }
      ]
    },
    {
      "cell_type": "markdown",
      "source": [
        "Podemos observar en la gráfica que en vez de estavilizarse, ocurre todo lo contrario, empieza estable y finalmente cae en picado hasta en -infinito."
      ],
      "metadata": {
        "id": "Z4Efbdm260zd"
      }
    },
    {
      "cell_type": "code",
      "source": [
        "# Obtener los polos del sistema en lazo cerrado\n",
        "polos2 = ctrl.poles(closed_loop2)\n",
        "print(\"Poles of the system:\", polos2)"
      ],
      "metadata": {
        "id": "kezc3L-45qHt",
        "outputId": "1fd0642f-92c3-4c10-ff02-a348f31158a6",
        "colab": {
          "base_uri": "https://localhost:8080/"
        }
      },
      "execution_count": 18,
      "outputs": [
        {
          "output_type": "stream",
          "name": "stdout",
          "text": [
            "Poles of the system: [ 4.93252093+0.j         -2.34880702+1.39935169j -2.34880702-1.39935169j]\n"
          ]
        }
      ]
    },
    {
      "cell_type": "markdown",
      "source": [
        "Con los polos vemos que uno no tiene la parte real negativa, por lo tanto no es estable. Misma conclusión que sacamos antes con la gráfica."
      ],
      "metadata": {
        "id": "Ipk3rwms7Cs3"
      }
    },
    {
      "cell_type": "markdown",
      "source": [
        "## **Visualización**"
      ],
      "metadata": {
        "id": "JUqJD07c70t4"
      }
    },
    {
      "cell_type": "markdown",
      "source": [
        "Para terminar, visualizamos el sitemas estable conseguido con el método de Ziegler-Nichols."
      ],
      "metadata": {
        "id": "IfXUQJk19muz"
      }
    },
    {
      "cell_type": "code",
      "source": [
        "from matplotlib import animation, rc\n",
        "from IPython.display import HTML\n",
        "\n",
        "# Define la función de animación\n",
        "def animate(i):\n",
        "    line.set_data([0, np.sin(y1[i])], [0, np.cos(y1[i])])\n",
        "    return line,\n",
        "\n",
        "# Crea la figura y los ejes\n",
        "fig, ax = plt.subplots()\n",
        "ax.set_xlim(-1.5, 1.5)\n",
        "ax.set_ylim(-1.5, 1.5)\n",
        "\n",
        "# Crea la línea para la animación\n",
        "line, = ax.plot([], [], 'o-', lw=2)\n",
        "\n",
        "# Crea la animación\n",
        "ani = animation.FuncAnimation(fig, animate, frames=len(y1), interval=50, blit=True)\n",
        "\n",
        "# Muestra la animación\n",
        "HTML(ani.to_html5_video())"
      ],
      "metadata": {
        "colab": {
          "base_uri": "https://localhost:8080/",
          "height": 940
        },
        "id": "5IVJXIIGtBb4",
        "outputId": "03e03e61-1637-4b04-fbdc-5e1273f58e94"
      },
      "execution_count": 19,
      "outputs": [
        {
          "output_type": "execute_result",
          "data": {
            "text/plain": [
              "<IPython.core.display.HTML object>"
            ],
            "text/html": [
              "<video width=\"640\" height=\"480\" controls autoplay loop>\n",
              "  <source type=\"video/mp4\" src=\"data:video/mp4;base64,AAAAIGZ0eXBNNFYgAAACAE00ViBpc29taXNvMmF2YzEAAAAIZnJlZQAAiJltZGF0AAACrgYF//+q\n",
              "3EXpvebZSLeWLNgg2SPu73gyNjQgLSBjb3JlIDE2MyByMzA2MCA1ZGI2YWE2IC0gSC4yNjQvTVBF\n",
              "Ry00IEFWQyBjb2RlYyAtIENvcHlsZWZ0IDIwMDMtMjAyMSAtIGh0dHA6Ly93d3cudmlkZW9sYW4u\n",
              "b3JnL3gyNjQuaHRtbCAtIG9wdGlvbnM6IGNhYmFjPTEgcmVmPTMgZGVibG9jaz0xOjA6MCBhbmFs\n",
              "eXNlPTB4MzoweDExMyBtZT1oZXggc3VibWU9NyBwc3k9MSBwc3lfcmQ9MS4wMDowLjAwIG1peGVk\n",
              "X3JlZj0xIG1lX3JhbmdlPTE2IGNocm9tYV9tZT0xIHRyZWxsaXM9MSA4eDhkY3Q9MSBjcW09MCBk\n",
              "ZWFkem9uZT0yMSwxMSBmYXN0X3Bza2lwPTEgY2hyb21hX3FwX29mZnNldD0tMiB0aHJlYWRzPTMg\n",
              "bG9va2FoZWFkX3RocmVhZHM9MSBzbGljZWRfdGhyZWFkcz0wIG5yPTAgZGVjaW1hdGU9MSBpbnRl\n",
              "cmxhY2VkPTAgYmx1cmF5X2NvbXBhdD0wIGNvbnN0cmFpbmVkX2ludHJhPTAgYmZyYW1lcz0zIGJf\n",
              "cHlyYW1pZD0yIGJfYWRhcHQ9MSBiX2JpYXM9MCBkaXJlY3Q9MSB3ZWlnaHRiPTEgb3Blbl9nb3A9\n",
              "MCB3ZWlnaHRwPTIga2V5aW50PTI1MCBrZXlpbnRfbWluPTIwIHNjZW5lY3V0PTQwIGludHJhX3Jl\n",
              "ZnJlc2g9MCByY19sb29rYWhlYWQ9NDAgcmM9Y3JmIG1idHJlZT0xIGNyZj0yMy4wIHFjb21wPTAu\n",
              "NjAgcXBtaW49MCBxcG1heD02OSBxcHN0ZXA9NCBpcF9yYXRpbz0xLjQwIGFxPTE6MS4wMACAAAAM\n",
              "NWWIhAA7//73Tr8Cm0WXagOSVwr2yqQmWblSawHypgAAAwAAAwAAAwCQhHHua5XJPWaAAAAvYAl8\n",
              "+X27XfnjEAccGMl5NysC/pKj5F2Rj2Pyg7ywl/ITj5CD6p3hXZCiJKRsrFjB/+h0VJ/n0kRc7SR2\n",
              "/i6e0ku9YnGubZE9fY+yUS7P6D9nxQy9G5L84zyFfhiYt+fWzKymUII8ydq4GiZNDrVUaFfnIOg1\n",
              "dg3yKRmDXJiWvL688LnyN5QD5TJRVhwW1qXpyNwK//WuujGhvYLcAgfhD6ABNgn3DF2eZLskow6k\n",
              "v0lbJU8cIBRAE3Di1D9u7tmHGSy8DZY6Jf4bhkyD3A3Uu7iymcI5q01OiSh8n5NHBJlKrrw/DILZ\n",
              "mNAi0gAD9r4f4NQyvTHNWoIPhcMUAAAlwZM1UOROFG9/Sepxdo+OClwlhxeCIb2gOACqUyfM2ahJ\n",
              "nQsNVn83o/NXQtaClP+xjWPXecZxAOFRAOv3ccwvksEityhgfw/H7kFNLfhQ6Ej+Ep9PNMFRKl7y\n",
              "f+upea63SGsTp7K88CiKbMLAH79lDRDIdYnfq/+SZtKrF4EO0taIYkSyLrTALHD5scs7JJqV4hAl\n",
              "Tx0N4tOHO9HnnNzwl59VzCaEzW/AFDiYVj19uwwtnXMtcRvQkqfxy3D83POxJRk3RFNVwGHBegAA\n",
              "Pj9t/sKnzwYP57XiUzyTvj+is/fv0kYv2zzGhOU2ZBrj9aUj4/78InglZaFgPYGYZE78KlhLL8eB\n",
              "RTRZMp7bu6igN8fgHDtX4/g8bPD+KTyu8ISE0q7dsVfBI35sr32K+JY5pG656Zy4dtjkUgesza8T\n",
              "ezeqwvZVKwq2y6Wa/RxFlL7+SmkGZLWTYQ5OnymWy7mpAr2rJxIbfx7drT8FPH9Kw/RMCYrumMSB\n",
              "Say8fExDNah04AZlZElC5oyUPu6KbrXhGF2NF59d10OXNjDc94tJuOCLg8JqEHThEGpzKJO+6LKF\n",
              "rhOm8kqQgWUHyl5au6R07u5pMoYahVAMxDqKAkYZwcWSRLUFGB+9oVjdeztFXuUjXx4tLAKvgIJa\n",
              "EBNxBL0/s68ZeAmnR859ZVx5vaJ7Lc4VsnKX77gGl5cklI+oB8Nld8RBa3RAIgiploz4h6Iw3PfJ\n",
              "LHixEBZ0zrrtPsFzsQca1pDSkQ/ouyuxnZGXQZvSbL6D+IeNO5S39yya9G/vFLVU0QeRyVT8hm1C\n",
              "FP5FS5hazY2sffqE/z65Qdyxsy+ZUwPOuj7sMyZOTa+zt2xggzisHD/USAKjVA0V6NpsQaI1H4Mg\n",
              "KWF/LJ7xMfN7HihSp6t99Qz9P6GUgf8TKdXaRtOuiJ1zfpL0OIBFc6kulxEkCMjh9vdYRcJijNRP\n",
              "eSLLalKxjsiiSoPt/iNGetvt45Cny2ixfkqxs5kdAOk6obuh8D/wZAzJDwwnVODml6Gc5F9x1rZ0\n",
              "NhAu4AEVV2lm0Ro7h3ZBmsDzHhz96EhT899fdX6WeNL51/JHVcHHzashWFVPuQ8Ijvk96huUskUU\n",
              "xRlcBP6DekACrPDAGTpW6c6lh9D6z5ZSZidEgvfjKV6rJdwVnKj/KbGc7zESydUZOkfbPFl9Eu0j\n",
              "AdmCrVfcYNQE5OsznAE5rjmystecgqmTxcKoRzNajZL5dn2YCkgJTp6CLLs4CMVS4hr3l00Iw/EP\n",
              "L4feKvqvWZHfOi+8vsr6hAYcCKSAaLxGikclcyBPRbbihgV7O46pOYfWmjp/o8JIN7irYiOWsg5F\n",
              "6wG3HBNACIQuK24PAzdQ8JjlU0YQNCihfVIpUEXfP6SsLgHdqZb6sbnPMW+ntGqmkWCibADUpr25\n",
              "IAk552AAAaBXnBBj2Agync8j5i1Qcmma5xD6RMlrR4ivqm73jqvM5b5fZV8nDvgxjT2f1T0XgCU1\n",
              "pUPJ6flGWb45CDX0GwmTxfYYaskjV2bSMU2Gn1EfKapdF8QPW8YWi6eRxa+8Xkw7T6pSvCwNuowO\n",
              "lSHe9dn70589I8QEQz9xWAnXAFldOpBYvYyNfGWQdykNRzstpSGneWREa2aXt7FEcFKvpz+BfdVB\n",
              "Fb56XekaPV2Sphlj/hgfFCIkVA+sbBXQ2dSCm0Vj/1H2Ijr3Viz2GSWCAAADAADT4aokAz7bQW4q\n",
              "USHDW8G7jaEIK4UbGgRvl9pySEEIqcktOUecouQdPN80QZ7tSyEhRipiw2GIJBgK/YUdGpB8Y7I7\n",
              "CHFqTApqzO0ywOTr/WZ3ftUJ359m559pa+89AaQuYp3yjUMqbvf2nJwXyqgF5nj6LBR+5TY6TTL3\n",
              "oBrttkdN7LmF3byLZPHEwl/WAE89DQqH7rldOjuwX7XBDEY6q98UGRqm+YxjiJrNBo4kc+ykxXJy\n",
              "L+UdVIGdnwIo+F3s64VOZKgrX2+RHPIw6GmMUHS1Ez9f+b2iQGXnRMOecirv9ZpcP4OJZsMDiuek\n",
              "ePo6HLAt2R0x2esKaBSiYl5uxDkdQiJOgSvZ+3WJOb+/9hfOzRVeoGlwimCBolIx7n9hRR5nBwkj\n",
              "mupdvHXny+1A1K9guqZo1uo3KFMbr/Sh27BSL1+hOjgsbwQDZy2cnSJIdvDMXKrBjR/FwOmafo0V\n",
              "1ba7M0mbY5p6HcqMxWqqLPEbDT8uVnjvUadPpotOtkG6ug7P+wZUaKdPltj29g5M3N4FBZWGcw7e\n",
              "w4Jk92y4Cjqo5KrXfr3ldkjOV4O/NY4kNhBRkdE+a3kIsdIp7M9golP/pgvB5xwIF5cQ34xaxQ8P\n",
              "4Ppt1RMU315+CrOMOj2W7SzOvyH2hYPdsq/S7koWkrI1M4FkPZOgMgPn8cCsRRPd65uNnfpVZKiV\n",
              "UdKhhGaeZNDfbh/7HbG5bNXaSitmczPXaNt+ah8YoyrwhtiNthfZdtecNbUll4OgF0LKzqwCo8j1\n",
              "MHnWux0ZhudN4Mzn2f2L6ovd8dDtm8j2otibhJqM5XZCr7FkZJMnfv/ABzNozTcZS0/wzx6NOIy+\n",
              "U2Mh0kP6XN5oS1XsJk3qskf7omjUWhxXR8B0+NkCGDes/Gt6rUUt+QPFkUFcJWrgucOnD+0MbQg9\n",
              "9dSSzfXsYy1/VRjdt5/R95aYa51VS9SybVu+y5Caiei53u126Tymt3Jexf6Pc2iWzvPrxY9lGaVM\n",
              "LWboL3M3HS2Yh+Cc7Ngo8yNJxNMCwk2JzERcWVOsUPFL2arEaYj6h7cxYhGypopgtZzdkc+FGhyh\n",
              "L5Q0r/W3fRaTyDILS9A6+hvXximpaaOHFh6ibQoK6wvCBf0QN1TGprxxlaZWmLPSyDvfZ4lEwiYU\n",
              "JzHF5sZ5FycxzVP+e4hpcblzlZyeOTheAicDWX6NmfAcTovvAmy9f6CG8iw8IrQFXemjFKMVmzEt\n",
              "EzPr0AAcg52586jUc8PQG1VHhNa541+y5I5zWmk+HdKn6GRiRkZV38s5fBSxUvHEtHnWRySM2HCt\n",
              "fnhAeEzfXTfbZMBctEtQqxO5c2Z0BcKsn/u/LWcqZjsHp6f/FBxqRbboB8A9r3M1BlQY0c8yILbl\n",
              "Eme3HpXyv0FsCSWtmPdhIgLU1dpqieksKPEXzce5hPa6nznuO4ZNmg1aoLFzjE7Ye81i+e/pQqDl\n",
              "tMvbdFw33/n/OWxlI44Mc/jWKb1c8dTXr1z/F5k5Ywlji4vqYaxzNCkCKRewMTvlfdPM/ss6/K8V\n",
              "gEl76I+vY7/1f3ql4ikmdiSsqVOWAf9Nu2mNyf174Dld92///7yLc+dR1OOpzQHyuxFZ0cAqDbQl\n",
              "W1NOwnQrzVmQEzqzagN/bXriZedv3/sz+6hM9Yut//qBGrH/3CLBQXIDDRDfa8o/EtD8HkPVCZa3\n",
              "NrSqDOhjdfqvff9lAbFZELhYGKTHotIfgyVn9cLn2VyowqXI57NPyZfC++o43qfHdwKLxE9YgO1v\n",
              "42xQpHnQupWHA/RRi9Z3XR/txIWSPqzCskmjICPVsDq2NK/mcJ5/aW6fs9An+ZNCnxLHD2gaZIGE\n",
              "8z6URY9sokCsAgEhM8LzSu6LKxMHe+/jclgrqnoK4jzqm2tl5Y02tRVEWI0HKpCjX51hONd9en0c\n",
              "gzQBbzNOfuyv6yEZrKZMDcgi9t/MPYI5kN8pdjVtGAEI6Nawl4DXZJTijuuRenEkyGnDThbAi0JX\n",
              "JZWASth5KgszqlVxlVOYT/s7EngxbSRv0rsc/of0Cy+HIQa7MKBqMlEaQIGgAAcVAAACfEGaJGxD\n",
              "f/6nhAABWSC2wAnWal/6tKAEQq7pvSDQDe0mdG/uVF3FFtNAZi+hvFIfREwk9Ef9jYDfyg1NMbGQ\n",
              "69xJUxsmKKQyAhFWSxE7bkP5653cZdD7D+Nm/B0CTRlpZSrFsXsptLy3FEou/p4LozE1WRUfPX7l\n",
              "yGslnG8rppwCFVmIxNGuQrzzlVYH/HWtzyWB4KlJBvVsW/Zm3rTfoNrmvAy6vqNkh9Jclc4VSZig\n",
              "o8G9uzTpqM1CqvR2K/15+jqAf7MqNvWsyq8WEN+6xRFso6dxYgtI5D0J2hMgQ0cW5Izok/Vd/mvH\n",
              "tK0haUcCkrG+04De+6KdNsxdCxQWrzuwdYFbqBW9vObB+EVqas0BT9z/MDduLlCVFZED6rH6+acR\n",
              "C5CpEi9jjoMDc/WYJjYR48GPMKihuxfZnR4bxwqx5ycXblXLOAwTKME4qPTWtao1tqZWKLgcQ61d\n",
              "XOWaQT55mz+gSTl4518HMj3uTaqRtyZAzefKP5THjyH53rsY2O5GYy3zCrabD17U9mZl78a7/fnD\n",
              "ID8j6nDg1dtyidDxh3UHjF1+vS+EuNuvWnKM1WQIFZpWsnc8RXSq8nLXc9V2VetcN4YXbkrAKeYJ\n",
              "X5Y16ejyS2oBTIuJEjyLFJtzNKzrDtmaI5Oz2bIw6bndgbOHPnKlp23Sf8rzXxtZU1lej/a+BVIe\n",
              "0cc/JvR550hCaERIFWsKaU9cRxyjBUXgIeQRQxQKI5OFmAmgqx+6QX+IMM+RVSnH5hkvhvLEwjS6\n",
              "0Wezse1tNaaEgLmBz++4Okep139rqRbEFdkJo3RTdSmn/IpGEX/19zqsG8fLsI8sfMJTFs7n/y9f\n",
              "BuRROAAAAalBnkJ4hn8AAJbFqqoWBX8zO+SSAB1ozkxeGEmbbMbMYjPxxMWRzJJirsk3VmoS6cNH\n",
              "NJhzYf4m/lSqK3vPRi9RY/BFlGdQmjJ+XPBR2JciV0ffPSnyFPZErfX8sx2XHWfNxo0H04m7gAgt\n",
              "N8Tgr43NNs4YmBzutm1tjCfh9EeNECXnT2oSZ2hC0jYNF5ml80ZpaaSuDorV6sI/yFWG7LNOFRxo\n",
              "41e9DPMhYcLPwoRwxMZW1IJBHuRkKLW9eXFsWSKlbVmBqoR1uS6NiPBPyhjpbMbDxNRbgUVgt60H\n",
              "MXXzs44H2BpNFiWaHSUNwbtQ7W1H5Fw+VXPpAsO62r28WuctMSrFqQUpRduT0a+cWrGYowk/uwQ1\n",
              "zmnVt43cRPzM8ngrLwRMmfRXmvwVBorbifUj6P/jWNhc7I3w0JqgbMlu65Wqdd6tIVIhGIAnWkOr\n",
              "WrAKDSepwJa5RCP4ilF3gzZbZdaPThW2OiQoeCqed2TUYg4sPABgKBt7JJT5diziZJVdIOzHQr4Q\n",
              "X2ctucr0i3lnrFUHyAbzSFjtIMuhNf8doGHDUCwJygibgQAAAX0BnmF0Qr8AARV0YqNAbg/fSAgB\n",
              "uu4WTtRd6b/Riim4wjSd+7Zz1aOi/tQPikuZMpPRSq0aBbWybVvunKxubAry9QjZ0qePakBgFWBi\n",
              "OQmuZ8CKPOjR9eb+RMn1b3kPTznBPGy7Y28Z1OvMEYmUY2WgHILH16tDF77otZic41xUfjkxmih2\n",
              "N2F8FOdFZMiNsymspV3x3tD9fDgYlT7aBoxLkkH6rR81kVSg/mk1D/zo9NUKtrrkLg9TQcgxbYBe\n",
              "JX28NliuA0TVrnSa4945XjxqqB0LKgfu+vMZnSnq5Q/cfUJLP8oA0/0Das0g8sW4Vbb2g0Si6EDg\n",
              "IIhxt2Tq7kOI/5ozt7V7qZWyqaSmd6Ypq2RhFlhNlKzW5f1qy0K9SqW0ZrqoJHpQtJ6jXfHrT7A2\n",
              "DrgAVptVmv2NBCc0MuZ6+rjPheDlWaMPRwx++MdKlPhBfvkj5iDVKv7WYjrETF+VuDTJqyheTB6Q\n",
              "b6c6bVM+F1yVNDkA0h7OOPr8syAAAAE6AZ5jakK/AACoMvh+BmZbgBa6odtulfVGGw4VE2Pi4AzO\n",
              "8g5bj/yWg5tfsZm9yuLbPQxg+poj45IG0HpCq2zbp6rl85KkYtkcPMxDyOSnUFyicgc873RPYYIT\n",
              "kRUnP3ENYfGSCofgnTLjchb44jzegiwTjoePdabfhBh70sreNfPTwP0ATVIGoGw0GJCNJfZ/hZ+d\n",
              "3yoIGwNQ9dzi650wz122qMBkRsow+XrwY+VFiEmzchmh7kW98i7AUX67f2zoVTKEkmd3AWOcLX4N\n",
              "YpfTOFmAwMtKtzXIbsKrIPmoau05riMtSp99kWm3DcoSTgi359SzdQOsrXHNBLpLJdcS58ZKWMfP\n",
              "ze7L1N8VJ533+6AAz/9JnUQpWSIPy8vPKri3WeouCdNBFQUgYdhzIbpusweIAXBHfRlMxsEAAAFk\n",
              "QZplSahBaJlMCG///qeEAABFum9oTBNiJ9/zACEEPpmgK52sCEtjObUkfsAjLivdc7gOEAkg6sEx\n",
              "GI/i0rk73zBs2axy2Y4yn4KUKqovBvH4lyyZhVyMcJeMGZ1vJvTwmrc6OEDI4ytXmeoehCoZUQ1t\n",
              "7Swqp7OJw1dONIKryWR0bZPogSToewxsDK9wEGnXknAz1ydMuf/3aw9y9uQJFXQ+IPx70CzJmaog\n",
              "B8c9uQp0jsp1iDh7H74Z29/d+7Yxmz7hGeZ0TFR3ZcYWI3c8/Sm88BewbgjnOdxRlsz41jHdC7K1\n",
              "xLXQSe/yvBDGwzXAj1V8TS5Ilf+4dAD/T4RBHVf4J7BBJ2dA+eKbcyvDFoCkVsPTr5j0DLUQtCoW\n",
              "ejaAYHcGgL3GZreLlftJv5EB8RXTgT6BOg0rjUVtL+kMUexBcOz5lcId5NtwSudYCnxeBzFmvsF1\n",
              "njucV5qzNYFjptAAD1kAAAFrQZqGSeEKUmUwIb/+p4QAAEO6b2oc8XbxtAkPNmfjz+QAlqUKlhya\n",
              "xWooSBam7Xa5U3BrvTT1ot6zz2B2SMe7awFw1XerNFG3IdQCUpVIND268fAhzvqve1jo3UjVtvZ8\n",
              "UkAzp0/+kZ6xlTvR5cIj7IXbrjX+EdNopCT+qlQv7zBa0zt6fi+cOdZDTMTlbUzJTAtdHOmwRBtV\n",
              "deL+7XVePA4qEv8H+QlPY07EweXYcEvIpcoyHVxxStErVtbvpxrE6Tqye0+ONvShNdkya4nhMMDW\n",
              "sZc8FkZFnty8FX/MrqUJHS6IZejO17kyUOBkIaWClvevLQRK8/OJd+yvuKaZFpFIFKgi530o6gGl\n",
              "9sNixc1cQ50KPC7gstNjYSOsbf2ptmIRtNexPfsC37fHBs3rHakVXB4mv7n+8sS1wC77FB49HD3M\n",
              "EMDCZm9D3Fj/oKmeI0FRFL31u3rS6rg+5Qm0MXgIxakOnx9XnuQfAAABNUGap0nhDomUwIb//qeE\n",
              "AAAYnhPJHHw4p6A1RG5dsH1AeJuyaVCSABORLs6tfxfXznvb9KtiBa8zRXKKnTUoA7CzzojyTQuE\n",
              "X0Fyi708ZX8/EsQ+2SU7LtB7AgZZKpRtV4mp5piOXRy3N8vAULBgkZbhLIiOeeM7B3WfGji6J1wp\n",
              "O7RGpDAV5dw8lwKGd6vvUA95b9OJpwFUTJhsIbKsrrEmg65aNfj6qhvMWiZQK9fHpIXzjktUmuks\n",
              "/te4rgMt1G6Q59b9Yq0pEppR7VsdYOmMjtwL2Qy1zFDyyv3hr78yI770k/xkQxrzw3oTA083SAx0\n",
              "LuGWfEPhxuWd/+pcUbGMuelwqh0AFsY/LOyIucnAFVMaqIEv1SB81wDv6ZStUgEc0Tg8qDGZa5UP\n",
              "vZzsKnVGmRp+/QAAATBBmshJ4Q8mUwIb//6nhAAAF/4TyU61TBhr+klO2XvwgAXSes/LCNE5fNmO\n",
              "LnmxB41dDFWW2BJX87nq/gw2cnSrLt+ttRxpwZDSMz/mIpFOgU+QtQE5bn9sa7o+2epCHTJnbo+w\n",
              "Iapy1QaI7XrdwkNOkJVgQHcwTUvOczD6/s6V9DWjA/tkNBHFX76TwCxGTgjN3OARmqbuqCKkwxiJ\n",
              "kbG/6jndk+KCQVqL0Zm5eNbZmrJ6mZWf2i8vB+emaszDP6003frcEjFQvJrwaIdX88umNJ/Rj+4S\n",
              "UT47o7qjgHKJoyWpN95n3FuYZWGnZJZsAMUHzel92lbndf435hZncXbwBTwQDmSIErXvCRfMzYOM\n",
              "+uhKnNhYPEOeKGVPs89C5O0Sezr2hAAEazqMafTS6fwcAAABPkGa6UnhDyZTAh3//qmWAAALuLkb\n",
              "I555ejKghmNzLRbCS/SLwAOrx0hgbtZcHkDFXmhCVYFen+9vXQiG8s7u5mEiU87y3YJ0YXImwlOW\n",
              "McADkKgMH/e2nF7K/zAkORLA3OBKSSdDluhDWZ44rhDSBFbrdtrfhAj6u2sXC5YRPnkpmbLCk46j\n",
              "ocZmlswu/2WTmDcIVM57vcXSvOeNY3kFK7BM162AyYmHzdyFRVIWqeeR5IXXzAb2uAU+b150iWvI\n",
              "Vy8oKDW3vCGyhoIV0fodeIaT8ojH15bZhcGKuYV5h17dyIYbTUMvXbhkEGdcH7NgIIFoeKG6Hfq7\n",
              "knwWlB1wZi1TLJxI15fqdYGsSTH1OU+/p+HjWTEjvSHqnc+3M5zrLt+X5wvQLlaLGaDj0L7JDs5U\n",
              "Fa66mJwwpJEAj9bRdwAAAThBmwpJ4Q8mUwId//6plgAABEf7pEbl/JO/ZmWOebZMoXpTjLd3aKyM\n",
              "tCH4F5glZ4d5h2p0NarHmA0q6NhTfANfEhr3RNd9WJZLlEu39lI96Kv9t9NUn7hXMtJzvCiMMdHo\n",
              "AV2g+WU4gOrckQdxDq4qJxUKY5nxOhWid7WN+EieoSmPrL/KSaG4PrfUuEOsaksoVKn6bPaLPBKC\n",
              "AxCboglEc5LUWvFfEitTdNWGPm93gYMnwtWx2UcL3WIjxTI/UaVcITiQvP707FQ8pq8gUmMNyaWF\n",
              "ggdT4NSWKd08yMaHSXSKREPm2Xq5PxrH/224O/SzdyFPVOe9FfCSDATBBvlKPS2eGfUeRlvnfWff\n",
              "zqH3MpDtiFtcDNikbHhWOpMmbui49yLE9EHo8RDDikwlDLun6zRT8AUEY9EAAAGxQZssSeEPJlMF\n",
              "ETw7//6plgAABEereQ+Ii49S9z5VK66Ml0HIuVKgBKou7unaQMAI+XxLYSS1wSei6Uo6alTuwPUA\n",
              "kFavo9CtY7QBdtYVwfzAMjcXw7T+eIxcXdKYO/Y5noEYPmlIa/FXkZaTwx9Aaf6qnt1hLreik7lz\n",
              "4Gp2R6rnOyikRvPavQsIl+oFl7UJBXgWt7J6QQ/TUoSp9n1qTfgcr/PYWaavft5tZBg1RNYu3AZd\n",
              "RSyKVFRtleJrqNeDEhwJJbOoWkoVIudn5X6/gq9biz9ZBwK0CeVZIbZK85xf9oxxCPBy4gbXs68Q\n",
              "XR1319RTGt3a7my3SHXlMZT8ZI+oyYon0K213oqHAhTrvTBhDmk1yZ8GJn+u0p5x2yV6dU63LcD5\n",
              "j1N6lHoFd69SOE+60jfZZmfgTZk94ORVwKs+m8dpYnmkYTwq637tCVH/Q0H1BFpNM3cNKKtGSNqd\n",
              "yv8pbAkbB5IM2cz2RwfAmgNOPITod55P862eDP9aR8jCzVycw78uPMBRMK1Q0x7DXZ/z/FxGypEB\n",
              "Nq8c7XavRi1IwwPQxIyOmbejnSx7gIM6KAAAAE4Bn0tqQr8AAAbAAPCUeQMkdV9cRPSVPqKtBPrn\n",
              "oPJjkf4r1btRm99/pqc7iUlU29BMnTllglwpdwIN4L9mboC+nDn96TADLFDIah+c03AAAAGUQZtO\n",
              "SeEPJlMFPD///qmWAAAEB6t7F8jIYVyZJzr+gCPNv/cZFjzm+G+Y+WQdl+kBZ+//gUMba5d4Qqda\n",
              "eVFNwQVn2+D8KxOi86XNZxJKkRTPXXIaxqG0p2GM2hrUJb2ZPB5Yy2izTyjEcEgZHfDHxNa7ScMG\n",
              "PX/9hbGmL9zF1GeG0wa7m49ruzNaoEmAQvG7Oqe7sWDIBLpbsLPihxwFgKy5kKBLN/mPlyCK7/1A\n",
              "2og4gcV34pGgwGcMDamg5xD2sKQXf6kQc/EwNnPuzmSp4GAtqyj5BODWkhEij4MlvLvur4C0wlgA\n",
              "Gt0/Xtzgs1LSp13YLY67D/v2UgxEpB2Bwf7HaYaaIJOWztkNDxDQfpn8KNA54GYhmxfOpKtz79Qm\n",
              "kXI0sbgLC92Vw6MF7f9dOEX42g5UNexwEpsGFwrklcgWrIdP77hIJi1jsZ7hPAfdm0/Phc4U2cJ8\n",
              "imHvNYcG8E0sTo2DNR53G1LQszF34IcMy5I/CYY48NEzHE8niTsJvsEYffJC7onigFE3HWQi3Gl3\n",
              "04EAAABJAZ9takK/AAAGmIWjg46cR4kU132Vh5iSm1iCYJGv3uhpaZdEx9SeX+ul/JtoIeEO13iG\n",
              "reTHEu4HyLLErCAsRpkZ2GN4HWAjWQAAAdxBm3JJ4Q8mUwIf//6plgAAAwGC4v3dClRkjBwGbjVG\n",
              "mQb/WOJWrGr7CA1DrA0k0DqEwhXcnPxwLOMpnvXqcrkQqicxj28peZoEfkx4E3Ymx1pk16YHbEh1\n",
              "7l8jIfv68WrDd+rgyRAHNB/BHwxcpukMHd0Ik6/iwe/b8Iy9llnzy+mCJb0U69S0Bd4+IRQ7pSSh\n",
              "WO7tQnqIl3XV28B0p4wBhRYSy+seuToY6DvHkDHQxQ0fw2W7l4pACl/hivMizkx9X/+5eGSZc8V+\n",
              "0n30TmB7nzbusJMZNl1Z7BIdYitKZofhDa8a+7AXUp/7I5Sa25aLt+ANtoygpJfIfUEhqT0Ur/J/\n",
              "0MNM/2IqcxW/JuY+FVBx4xYcgkCguB6yyoZeVIkOq4cVRW/b2zMVLaAlET+mCbnJIGdmuE66KSX2\n",
              "KHSvcAGfCzVVMB+HzVm2mvJPrAYPI9gLvJz6lMC42Tx9i/BhQd9qe7RW3jVE5Z6WYkwhD//Jk7Au\n",
              "Hksb4DYRCnr7vHjFJVYMpJteLpBZt3OCfAeq60q2fsynqnuJt1w/4RBs1wtdVie3eKaI8fpob2Xn\n",
              "KvJxAbJ/Jv6LGgj8zUaeNbWrE1k4ypSxIilY7ZSCm2ZRmh8WfTz5hE4Px49kxwAAAGVBn5BFETwz\n",
              "/wAAAwFQUCmAWHl/IPDTE/x2Soql/tGD2rVJ5SF7xHWY6tgvUP8E9MdMZ+OSAMrEFfD/b14zhD0w\n",
              "VgjpI7LsCA9HEXsxdxKSMM0/w6givtVgHyAbfe5mXhbxLLsZcAAAAEQBn690Qr8AAAMCauZCO/hU\n",
              "EN6hiwVxeyXtIvj736GTrL8d/21vOZEeJj4aBlJUqpQxM6+PREpxNZU28dpfqAQYgPzynAAAAEEB\n",
              "n7FqQr8AAAMCW5umITOnJEtb894azlFKzRxu8qV7NjWR3AN3kHP7xOF2Q85thq/tbPtZQNiVwCMn\n",
              "wjHtdiwnOQAAAVJBm7ZJqEFomUwIf//+qZYAAAMBeOeeV0MdoSOX6vgGxtQELeUrlqEjxUYViGyb\n",
              "Tw41KhLEIIGftjZscDUr2bAFUXNITfQ+g3jmw6ogjXYvRIWejqTH/+pwmVt9yffqApxHzCQhbebK\n",
              "HIL/CxDBftGLPsTH+UWbk0Q+Mnh8EE+M3dqfaN0ST7Gh9UgUtp+xABzbIu7mPdg+fgPLPLdlZWki\n",
              "MRI9t3A71Z/fYECv2/81f0HtcD+ahsdwinLuaO+BYgvUQUupL72RdUIFuO0qTYy4sjieJ5haXnzg\n",
              "6Q/Tf2l3hzdl0bXBz6ruEJegMdX/LFV23HajqclhjNVpZ0w7O6UbUL3tpomwAshC0aMq1CButHaR\n",
              "Am5Tmf7fizKQK0mcEr30h3Dtc9UoMLLg9D5RdsUEe1ZPaTh2zVCiBEGkQbQdK1lP3RMFh1yB1IdX\n",
              "6mKn0cRDgAAAAFVBn9RFESwz/wAAAwFHUF/OqI7a1mf4m0bKBPucC2830kCnloiF50uhEwLIzRSH\n",
              "0gdEir1bklFjI9psk5xsGXBNp174jystFDlm2CgIJdu4yfFFM544AAAAPQGf83RCvwAAAwJa5sbO\n",
              "IERxm/hahDMhVtNKp100Q1w3nydK9GTb+I2ciublx13QdoWFUnhXo6AQWIA1dMEAAAA0AZ/1akK/\n",
              "AAADAOKA2GkSyiT4EwOfq/Ke9QUoeKegSAUp/MzDO9pGj5BEHQ2OTQApVNnm5wAAAT1Bm/pJqEFs\n",
              "mUwIf//+qZYAAAMAiPK/8B+riErvmHl3mgEtfGlj5BwdecnlIKGvwcL4uH8AIyhBWj2kL+4PkOZl\n",
              "ZNMCra2tgNMU3j+/FOq0QBqeZfsrkGrcEN3cXAIajqTuFVQSpDI6xUWnqfMEANJYyjW0LbT8LMYH\n",
              "RuGBUxFEvDHAOdG8bs79Qhi6knfbsiQCTsh6Ddl+cy9Tqwiyac6cNEiD0hjX7ZDAnIjb6Al3bbMa\n",
              "Ar83zX5KefX7hRmuj/BUBi0Tqc1O6MsIqYTrpEDVrGBcE0yiYgWaVEPd1rg8bShHDd3KPYMWzFIH\n",
              "x4x3f+GVZKvX7wrshH+kWWZ9Smn2Wl/qR0HL5qXYFRYAeq5goAThapHJUi28EAcMu+JJQKd6mAYJ\n",
              "YwIsomSW87zjDR5mtCjN2Cu3pEkGZDCbYQAAAERBnhhFFSwz/wAAAwB2snUM0MRFPididIV9ESVB\n",
              "Odb0k0OSZNONUW5OvDP8YymoIV1CeQNtAIa7CTg/SVmQhGSeIeGuUwAAAC0Bnjd0Qr8AAAMA3Pbi\n",
              "J9tA0QDKhaqhz005Iokf7mCQpoqYtCXYWAUC8LeXulYAAAAsAZ45akK/AAADANz/g0q9pfuP4p/f\n",
              "juSW9SDbEtS83kOaYFcAekOlxoM0A/kAAACgQZo+SahBbJlMCH///qmWAAADAIj/TQ2vVcDXiYSU\n",
              "Aopoi6AUS6ADGewD+9w7kqT0Kpfhjn/Yt5Nq8rtOohgP21MdZrHWh6u41X/dAkBfSyavGn19U2uE\n",
              "jLQyCNb9R+QvhRM9S0qWIprbA13AJz12MzFwskC9TuYbYpUVWJojV/WX13BSof+iDm1F3NZzABN6\n",
              "z8wAydTEin5lqVSihzfX9gAAADJBnlxFFSwz/wAAAwB5ivHdzaLWbj+FVAkSKDHvTV9RNnpyDr6g\n",
              "uZf+q3KADy5Wgxq0HQAAACYBnnt0Qr8AAAMA3P8OfHafJxJGiLTElVYgSGmjehksUAhkQZqxYQAA\n",
              "ACIBnn1qQr8AAAMA4rMGONcaUKcR6yRZU+68PidAHQNGrqUgAAAAb0GaYkmoQWyZTAh///6plgAA\n",
              "AwCEGdgXy9jc2AIlQLREX3A+WMISNoHUcwXm8at4DPV7SGUE0ir9uDj+NZLdmsjh6yLIdrH6iPQL\n",
              "Qhueq2AO29W7VPF+jANeOG1O1OKuw4llQaqylre31ueHiuATgAAAACdBnoBFFSwz/wAAAwB5mCEG\n",
              "DQZyvVLWk9mKQbzQ6JdbYCvIATXruYEAAAAZAZ6/dEK/AAADAOJwe4C46+MYollAAOGw/wAAABkB\n",
              "nqFqQr8AAAMA4rJKvD3eahUdncACcLGbAAAAVUGapkmoQWyZTAh///6plgAAAwCEMX9moV6ADiDC\n",
              "cApbsRZ3+Bl7Gk/n8i1GeN8IrFZGobdMvI122ha7CQUK8eMco+W6gul4J/0mpOmc5vzB8DVWveIA\n",
              "AAAnQZ7ERRUsM/8AAAMAeZggQd3JpM2edr0yLihdoGWkPDNQnACNtI2BAAAAGgGe43RCvwAAAwDi\n",
              "b6uw7lSPYsXAH8NQeXuhAAAAHAGe5WpCvwAAAwDiskr9wrVElHt1UACTBeRgtoEAAAB/QZrqSahB\n",
              "bJlMCH///qmWAAADAIz1b11iTAWyxP1jDFBKRpe5C1/0nGzbq1sBtX8VXA3OIvDbi+5sODSWlGZY\n",
              "x4ARuUYKGJ4W549oTg2YxJt6stFPOMz95oDbC3VmAuR9poTg3OHi0B9GZlefxt+pQh8vFU/9txZJ\n",
              "FW7xG4dcgQAAAC5BnwhFFSwz/wAAAwB5eNXpOsjLkeq+AQy+JulXY6r8OLqSvB7rBABO65LJHktM\n",
              "AAAAIQGfJ3RCvwAAAwDib6s82xPWyiH1YHt8KA8vhABkJJIFGgAAACgBnylqQr8AAAMA2AWRrVnA\n",
              "CZ006xQ24WL4e/vqjv0Z2AgADPo6os8hAAAAuEGbLkmoQWyZTAh///6plgAAAwCIT6KkZHAPxxCO\n",
              "HNMomz8WMPeS98LbaYGZRcFFaxZlQ+kQjlWGpSvuswH4kJ1ePfii+97uK54u901270YgEmzmHWqr\n",
              "6j6YneUqYaA+yA1Sq9JEkmdgVLf5S3qk2CcVtVLLcLN5luOv3rm83aVlYchfCAmdsyKJvQWT6Jvs\n",
              "XQIx7ZXYvUSEYrR51jxRIrGN1wKro+619QDqGnx4GxX/yPmA2keR3HAAAAAwQZ9MRRUsM/8AAAMA\n",
              "drI4Lue1X5ZOo2izJsgtmb19PoddHwByaJ5MzACyF09PUqhAAAAAIAGfa3RCvwAAAwDdPu6HqST3\n",
              "hcYroaESsmAAOndV3fNBAAAAIwGfbWpCvwAAAwDdBM1VrnZOJQyNcwocYdDAAdAKvLtu02U9AAAA\n",
              "mEGbckmoQWyZTAh///6plgAAAwCMHZsCvxXDbKYiwNTTURlYgc1AiblMDsbD0jRc50Y/1zw/ScpL\n",
              "W6WcyfSDMWf9+PhMxpJwQkLcT/JYyUY9tCsbmPdjtd7qn3vfkqBcSkoRIgVV/fYGFb8Ked+1mtgh\n",
              "dBDBCzRe7Uxe3lcERIebTEQtO0BmtjJqPv6Fgb+3+qXXfPjuUOg5AAAANUGfkEUVLDP/AAADAHaD\n",
              "JW85ZxR+WU8JwqTA6AqbyYkzVhii2QD3rMkIt5YsSyAEd0B/ieapAAAAJQGfr3RCvwAAAwDc+UaK\n",
              "lmdF1sgc/m9rrUUNJIaAENfFLOi/e2AAAAAkAZ+xakK/AAADAN0EzVF+lYq/W+r9vEmtziwUAGIU\n",
              "w2bIPAJBAAAAmUGbtkmoQWyZTAh///6plgAAAwCMKusorfO7xZG88evJT8ItOoALYobixTntPEIb\n",
              "V6YMjFaermv4Do4EWwWpKiHUygdv6WpsgyBsVl8Odd+KRtZhfoXKDRFJPWj8hZhYIHRBNMYfyUdG\n",
              "aD+1L3puFO3JHzz4SkeLeDDKjxAK3AI5TsxzzRKe1NgI7KRaTaSJjpDXxXnZFRBFAgAAADRBn9RF\n",
              "FSwz/wAAAwB5ivAqmiGSBvmBTl474WRjq/AiSf5pV7D8Jh7LGQwARyE7b5E2gwyKAAAAJQGf83RC\n",
              "vwAAAwDc+UaKls9vVGoezQp/tYxwFOpgAqb0+zqDPaEAAAAqAZ/1akK/AAADAOKyLDJ5nBc1+hNb\n",
              "YwdMfLrHKya/38U4A+/CqzrS2bOEAAAA3kGb+kmoQWyZTAh///6plgAAAwFv/q4BpMCVek1qggoi\n",
              "KQeMFOrdk0BZWGUL9vhtyuaEX5Rd7vQTuFrHlUZRT9wPeVX/aTuyyu5d21XEDnn7VQ8QH8AB++L+\n",
              "7WMQkbeWCZaKM8N4DTGhhdQMHAceITDhHo5+dGXzfbGH5kH6i9YIrXr+Ln9TyfTzY5/nxTvy0Vwd\n",
              "Zb4u2jIbYlX+PLK2xfSrNY7CdUs0C6Dd2spjgXGCBkhr1mwLZt64tY6a/HkWnxfaTR3QC6ifSP0G\n",
              "YPq7B/1/k0lPmD10H1cCAfFSKQAAADdBnhhFFSwz/wAAAwFHgNfbi4Aby99rPapZ3KTOpQgiL/tv\n",
              "hz08l7Ku+WYizBwAgpglprpoHUyLAAAALQGeN3RCvwAAAwDiuGMdw2t+b9oATK51aWPNjSlPPLzh\n",
              "Dk9SABblrAGkKSJEgAAAAC4BnjlqQr8AAAMCW6/wq1S7UZf6zaUTvuV+u9gfRSVu3xROAE+ADEKg\n",
              "8n6wW813AAAAskGaPkmoQWyZTAh///6plgAAAwF29GTEFvvl6eLtdJTEExmQlB3s2Uzy/4UpQjTu\n",
              "1lgZau29WfP3gqktIoNvVEMk1j0yiwv2UnAuMo9q3RTzD2bHGKhQRP8auHlukvzfmWG0yUs7oTER\n",
              "6mTyxtlDHwfs2s8JGK5iKacW8EaZYVkO7Y1GU6RsFuX74AygbxaiOtlBbEloctxZEFa5MSGjiisZ\n",
              "Z7Ys39JoNOir83icHWGFNcAAAABDQZ5cRRUsM/8AAAMBR6aT2ixZPK7NHP2ncAJndTEFLpNQY5zK\n",
              "fiHUTiYb0LoJi6BG1gV7/Sl8TnqhoAGbfa5PF869eQAAACoBnnt0Qr8AAAMCWuhro74vGJpiRsp6\n",
              "LkyuVjmQfNbj3M8AIjnkNjMruycAAAA7AZ59akK/AAADAlshPP1M+KFuUnugKZ1mkAASdDRJtwxK\n",
              "QlW6qVSgVpeYr2ll5r66kcAKQ86JODfBtlAAAADXQZpiSahBbJlMCH///qmWAAADAXeA18DvABGo\n",
              "DSEAEmiD1yNHEJev/NJAMlYw2W876uJe4XtO9b5IpbFn3tqixdJRtDvnAjNLD1jrLqHe6d/ekWMl\n",
              "GcCFQbLC4A84xDwO//+CdI0RyQzuQdW+KLwNZ7fr+5371URj8HuLD+aGGU2IkxBbQp2EMcapr7Jn\n",
              "5uYU5JNiFIccXkS2zj+OTzPgt9cM/JT12Zjb0aROVLe7Lwwqg+7LiGsAe+gSfAbQeBVFGEeZmL5P\n",
              "f7moDdnlKC3rN/ttMmuJHiAAAAA7QZ6ARRUsM/8AAAMBR2sEJoN0sX4SkY4TjS+ACdTIbXSj823/\n",
              "nkoxrJpC2cVInMD6eHAB/F14EQOZY8sAAAAzAZ6/dEK/AAADAlwiN1JTKApwchaq4slmQAfiB67E\n",
              "0V8FB6eim9dpw8YASxjF++CTUMRQAAAAOgGeoWpCvwAAAwJbbxfhESY9CJI2HchDySAAJ2frSABw\n",
              "n4JYdL29uJGC5oYxOG0J5AEVhn6ntCUHtKEAAAC8QZqmSahBbJlMCH///qmWAAADAXbf4KXDu6gC\n",
              "fH7w9lqjcknr1cQKbmcjQQkJNp3LoEcMQldCDjysbkfpVKMYOGwZX/xtAnTC8QRVtbRWRB2i59B7\n",
              "6HlZzKe5Kfc/WDqxnYptYlXleB74GZeO7l9ilX1LDoSfPhRYwVqSwYpF9V9vWQBMmvIPd/mK4Wio\n",
              "9n93+pMPF3cb6exCrn0USeBzFm5UHn0CRKYQs1b2ORI94oy5N1MKez+g0BwpVoAAAAA+QZ7ERRUs\n",
              "M/8AAAMBR2wCwMA3YXgv7Yr44PRtSxMf6/Y21yTja81f/NdI2c74vV9gP0wBoJ1hvsvgQ0/VnYEA\n",
              "AAAsAZ7jdEK/AAADAlvCPq7noI+6WscCXQzkOAZrf5y+udSk0oAYgKHPRwytZXkAAAAsAZ7lakK/\n",
              "AAADAluu5f9JSr0MzrxhZJcLqXUNXcCzf1YCcJaAFGCYMrCcuoEAAADGQZrqSahBbJlMCH///qmW\n",
              "AAADAYCXNgW0iUHezZUAMa2liTUAOm00azLxPe3/HCX8qbsRAXToAx4KXXLuCxNesI6XSxBJFY9p\n",
              "zKRRMl/bizslcqUUd1XymSr6ksgojMM4y07tWljmvn8+cJXYJ8EP7m9D2wFA7LkS9w5PL406Kvk1\n",
              "BMz3aXVODrMolprTiVmK3d0xytvdgprwUHM7+z+1fJ+tnIanBw2h87fp2ESc7Cv+0lns1HVDgrnn\n",
              "M5PjjyHucsdvbtfFAAAAQ0GfCEUVLDP/AAADAUXgJ3C0beSLhpyZxL41sa/BsFEFyiJGWChD+XW6\n",
              "h9pU+Es/SQziV5mXmAGSkkDD0EqiIayCoKAAAAAqAZ8ndEK/AAADAlpiCfgo73Z94qNh0CcLwlAd\n",
              "pIkiTFCZwABsGy0ug8oQAAAAOAGfKWpCvwAAAwJTvUzWACdXQrfuE3D2IMwrhsM0Lbi/tdlW8dD+\n",
              "7plMkPq+4o3ABmr+tkpROU8xAAAAzEGbLkmoQWyZTAh///6plgAAAwGBHdGIQAAF/WkzSP8JVrsb\n",
              "yaWXSaP0JqdmpMLS/NRLmqbAP+ORY2JGKhCOmWf85Ir1pZvDfizwGERoMwhNswUJk3RIzOjsgT7t\n",
              "lJPSzJVmuRmmzyT5jKQVu/FwRux1wO+nkZf/MNw8zlt+X0PIUrd/GN/C5ojhAs1SBrWiKpyb54X3\n",
              "4czVcod9hG23NoruOaZ0vkSGff5HjqepVM3dsZrd6R0CUqbdE68a2kqUEcoFST/+W+Ozt8xxsAAA\n",
              "ADtBn0xFFSwz/wAAAwFQPdPiD8+486ZfQXaWEnhp5UFKdwpl3k5aHF1dZY6L2Qrf0elNgA6AF+34\n",
              "4Y3QXAAAACUBn2t0Qr8AAAMCa+JVNuAr/zJWoj089Q3uVWHuoOIQAor3RJzpAAAAKQGfbWpCvwAA\n",
              "AwJrnJop8TOMtv0xEQ+Jj8UBXMLUBVNsugCKy25o/X7BAAAA1kGbckmoQWyZTAh///6plgAAAwGA\n",
              "tEzDbu8Ag4+ui4Jx5mEVvDf1AORNLi2dwh0oArGxtmV38nAahXfE+Qi3dvY4Mr1GSTa5YPLXsrKQ\n",
              "UjkmS7CZ7Y4grlDs6N5CuL2RCo8Ixd49th4jRXnVgdduBcU7oak0shFffge6EIiG51t03RGFXksZ\n",
              "ekTaxk1IFUfYYV3ZsoKgUBt0BOMoMka1N82seBLfjJyvqR2f0bdYwAT/JKT1j/M3PAxFmEqo5/i/\n",
              "rIUNOZn/PRvOrB99GD4gdx+kHf0IgPUAAAA4QZ+QRRUsM/8AAAMBUHifQqEAW6Qv4S9qTIAr1QMa\n",
              "ihA9LO+YZWlFs+XkzZ99QAcOkWHwSYu5tuAAAAAoAZ+vdEK/AAADAmrTLjyvWWhxxa0ZOgf9BL6s\n",
              "ZHhPajS6ABRXZJ+x4AAAADQBn7FqQr8AAAMCavxMGc4nJEAH8LkcnHAzqqsKoXwo3TYps0v4TAxe\n",
              "H5Mz/AAyTtTxMzZ1AAAAtUGbtkmoQWyZTAh///6plgAAAwGM/l6gwjQkmR/RMztvhI9+ydwdHQMD\n",
              "hnt5bBSsnl1y7C397fT99cIkuw9wSUzorvEvQ3+aSyxKL/hXxlePhjgnUe//rp1lTdQ5TRlZHUEc\n",
              "ijSLGGoW8wjxJp+RKNaBD5V3zqyHKCV1KWWB2rcXeIJ5MkU9pkqsPsWkyfQsvjwwf0GNEKnXldMr\n",
              "Gha5pMpe86Ju4SS58zSdDWfm3541M9qTQqAAAAAxQZ/URRUsM/8AAAMBWVCFVsVgJaKSueRrtP5h\n",
              "wxFLUFWZOZdbej1KYowAeBr6nfyn3AAAACsBn/N0Qr8AAAMCanu+MER9pgz4aQEnrT+0WZ/C5q4g\n",
              "fqVH2AD3d22L4/JRAAAALAGf9WpCvwAAAwJq/EwZGz/yJmAD7U0hqMjRhQ//X3FkTrXag9Y/gAB9\n",
              "D8ZAAAAA7UGb+kmoQWyZTAh///6plgAAAwGKi79gg7+hbKmG8j5nqWA1Op0dI7Rxq7ooUvbk9pHg\n",
              "cqTzLKj93V8VogX9yiR+dL2OCP1C+ufCObytVAxbC9989Z8bo5udL5DEoAmZbIaWz4ZB8P9hRl/M\n",
              "JJRT43DkLI3ER6mOMz9UskRU5oynJjLMzIUpxdepFpcagqEmWYS53a6Y/35JYw8MN1s2Y1+ebhmi\n",
              "ch8CZzcLD0H+ax+yu9v65NtIR7bSE4WDd1uHK4bJoWhB5bKn1t0k2UQU0IpDyytNAjX1poB+HZPF\n",
              "uBpSuGspWFS6N8sHvZ/IcQAAADVBnhhFFSwz/wAAAwFZizYanFeHYLSZ9MOekcdqx8tv4fym4SJn\n",
              "ERDo1dJmZoABQbtNQP9iUQAAACIBnjd0Qr8AAAMCa7/spmEYPNKG6dseMy6phYc5yQACr9m6AAAA\n",
              "IwGeOWpCvwAAAwJ8r5IkqRkhhHp37rPVGc0AoTkwAN6K5QHzAAAA4kGaPkmoQWyZTAh///6plgAA\n",
              "BAf7agHJokUZhRrpyk6wUTSxh30in3RoixEiRbOhhKBAIEX9On4vR0yZxFyyGxV0vvAhg4Q3aIUY\n",
              "BvKWIlJCU3bpWyWfWi6dMTtOU2DY7jnLJtW9uoEnkt1REUgprvT14Idbn7EOpEttNVkc2jErCVPB\n",
              "z/vNEscS1xl/tfP+zbBXTambVlUSVeX71GSsoR6vjaOuY0UF+gwS4mXLUgRoCxPL5hD6fdONEyeI\n",
              "K4xjzlkQdp8X1rpI3TjEMvU0cArx2JkyvTBOAR3U91X45P2cuNwAAAAwQZ5cRRUsM/8AAAMBWUKR\n",
              "GikmAvb/t2CvxI8VhkoF4hDw+Rd+ZFxjHEAAPgBfO2zRAAAAJgGee3RCvwAAAwJ9cjkVPsvYQ+Bb\n",
              "I8gJkdd4k4C9W9iADGNAqFxJAAAAIQGefWpCvwAAAwJ8r5IkZ4seibS6rNgjxlbuwANgVSCisgAA\n",
              "AK9BmmJJqEFsmUwIf//+qZYAAAQDA45KYNJQBq+TS9qJJzCCket48RqWNoKz85dIuc+FEJRbmebi\n",
              "is43uRIKL6NCwvaw7sVNOt4zR6I0+J2In/TKcs/kt/Zscc0DnwJTCfybKPeRjatlPlIILlssWXs3\n",
              "JsI1RoqxaJZZ37KmBh6S7HaqixdYoSkZWjfQ6afVCHmwvpi4EBRSiO9bOY0omFN3YAXweMBDCPsv\n",
              "4hERdMT4AAAANUGegEUVLDP/AAADA4mnATcKQWGycBJG7rr2RcZidOQloWiEhAonkrJ2YgnegAoq\n",
              "QU0iNopLAAAAJgGev3RCvwAABpo7wpLQ0vJOmVH9eiTZWIafIMRNTnQANSTMcCpAAAAAJQGeoWpC\n",
              "vwAABpiFrmqJefGcPR0eHQ0Peh7oh8lABHdFsTRyfMEAAADDQZqmSahBbJlMCH///qmWAAAEAViF\n",
              "X0hFIXKPAAb/NwfVwaE5tYhrRSdwttHTImrkdesxVEDXRP5X3cWsyYY5lwNeMlXRrsKtw+Z5FaZ7\n",
              "rNVmrWgCNOj0rnJV/QaW8TPumSDLdEfySO77AjCxVIzTpId63q13+NkTrsqfDB/XomijObLyZBHe\n",
              "kBA160qf6ViZyLrwpAOCZYOlIJYMRK1F1+5OHPDGw7XGf3oUX0NS66CIfRRm+Ed5KD94aksn716p\n",
              "R8RkAAAAMUGexEUVLDP/AAADA4p52tH2Ky5XQSLC6mum/JupMqKbzihbGSgtACaKjRZTfwehb4EA\n",
              "AAAmAZ7jdEK/AAAGl/rTSXiFo4AdOfKMtHRwrPKdjgAOcX80OWbuHkEAAAAlAZ7lakK/AAAGmTPF\n",
              "rXhX/rMvWazQjX8uEo45wARwuz/AGS89EQAAANxBmupJqEFsmUwIf//+qZYAAARnq3sb1kCusEkN\n",
              "MKtoMI0JJkf0TM7aYYVnI0w0yKpDcwbkHBf6jr2oOMjMHsJ4MZTCBU2R+QUFJxmFbzQnycgjy3sj\n",
              "B+zjWfRhNL6l3Jm0A0vBFbTF8tkU/hFv4jrWOGZveGDO0HI8O2T3ll3DjfAhs9qyx5ejJFsbphN8\n",
              "HCpYxafaPWeVN4xCEqcev2H8LHoitCRiz6o3QSZEwT6DEMW+Q/vJfxubQJEiHkjnBasjsIctY2Ev\n",
              "ef2MBKhIwk6zjpgzfH0ImOQxfy+BAAAANUGfCEUVLDP/AAADA5bZ2iFBw2mdanRSMdbYlyLh2MjB\n",
              "LPoa4gavlvPvjAAZGXQ1Kh9cs3RKAAAAIgGfJ3RCvwAABr/6wz3X+6/4xJLIuIYY9pj5cABsCOmh\n",
              "cUsAAAAiAZ8pakK/AAAGwdDL9wtyPMVOvZv1c7cUj8+QAJBOgoTbrQAAANZBmy5JqEFsmUwIf//+\n",
              "qZYAAAQg0OQyObu+wAJWMbTPfXjZDAJ2Se3wsQ9qhevBJ6VgvzooU07snFRHlghk3KJrzep0eghN\n",
              "x6kNUYI1d9RIjZJ2hcrWrpOJCDqB7FZzO0zrunAg/J3EobF+7RhlHT96PddHPV0Au40RLMFXd7/J\n",
              "cRvZ/ZqQkvBSa8CAO8Hs4T4oAdTEZwL2Mv8YsAwfhfPjxd19ZmbczbJS9RrSmkioT4jGpmJXbJon\n",
              "ZI5H17CSOuCveHEuuagyeAEBAU2JX/kP0ReBhqfQAAAAMUGfTEUVLDP/AAADA6BXtWLiVnUpUNNj\n",
              "q3hXamfSyw2kMBiLxo/kwXgAT4S5Yo2KvMwAAAAiAZ9rdEK/AAADAn11XMUn6r9XtnCbA03LkGAA\n",
              "3SYfoCpGQQAAACMBn21qQr8AAAbCHYz2M6xcq6lKRPK/NYFZr2ACSSX8RXEHgQAAALJBm3JJqEFs\n",
              "mUwIf//+qZYAAAQhOLqeu+mrpub4JKiJWCwTtCuQn2iPxCkqC8WRnDyj1K8EmRlE9RZgGv5/1iDc\n",
              "Mrj/qCe6kUebgRauMM0sULII27tsqfvnrmVPOvRQI7AJuupmcJpNOlI2QruTDXeVLNZyT3nNjWBR\n",
              "6CGfx2pSiSWb22vIwF1OTMOXuLWMH301k2eGfgTMRN8wi83ispfvn+6EuPtWI6srg7zz0ZtAaFjh\n",
              "AAAAL0GfkEUVLDP/AAADA6BXtWLhqYSL4bFfbWOxwSEa0/4fWyG897AA3Ir7nD+d3vSAAAAAGwGf\n",
              "r3RCvwAAAwJjJdeJQ66FMAAXQs1HnV6DJAAAAB8Bn7FqQr8AAAbB0Mv24OmBpq1bpPnfBABLLgH4\n",
              "NE5ZAAAA0kGbtkmoQWyZTAh///6plgAABCFbTCKkA1iDM/pl5e1ARphoTCzdKAuv3fnncpy0U0Ek\n",
              "H2Z5zODHUVMp2bgfNIwQasT9MQryB0yCHws4nwFp6hOTXlLy/kqRzCJPa2Zcj+8iMvvQgyLWIBy0\n",
              "GhKCC3dMK2aPq7inb7geFwp4boBE5X9ZsqTXYTULkJXhplEto3CG7C/qN8DAKIYdbtqMAgRV7wci\n",
              "TqZ8hDgwUi9/mMogtfdHQUAyTjUlfVKO/P5oEt3IZQbNJrNqHtySe//iZwNTJgAAACxBn9RFFSwz\n",
              "/wAAAwOgSWLWP/ulhb87BjfFjgf1wkyTuu/MALLxGJ6U8LKD4AAAACIBn/N0Qr8AAAa/WhixI7zZ\n",
              "uiKV+pC35QACO5OaQvya5IWBAAAAHwGf9WpCvwAAAwJ8wGTWhj735ZvAAFTt+su2c6rYx9AAAAC1\n",
              "QZv6SahBbJlMCH///qmWAAAEIp1wMIBQEDd741QwEvQy3NZ97ZAuxbFoEka6CXeQ36hTDwiULUxj\n",
              "CCFMHzwFFuhiAruBtngzaBrqbV9ska4nadxMxwdSJ9VlU3wyZcjmTfzkeieXBu0eC6xbQ/+80q1i\n",
              "Hc3L9PvLJB4u81KYTfZrMBebX+kh6DnF6mbj+2sVN3u41KiXE/39VbSovtMSgEolNH7aJ50B5XKh\n",
              "KbkHzteRa1ai4QAAAC9BnhhFFSwz/wAAAwOgzqzT/rS7Kwuu+1+8BUVGOyEg5qxj8KWoAMimzfIO\n",
              "9kmfkQAAABoBnjd0Qr8AAAbASp8YszvH7gAA9QiF+ICvmAAAABUBnjlqQr8AAAMAH8Az1ACK6KDU\n",
              "C/sAAADbQZo+SahBbJlMCH///qmWAAAEJAyASdSAONS9w5pLjrgjrsACDh9Pgw+xK5UzUQwY0YVo\n",
              "QZ42Oa1rn07g7xerfQQpbAXSC8la52XZZqUDALDCXpgrEhITUGZVLS6mg24wrU2CXN0s5yD5gy7E\n",
              "givriy3EIqqZ+3+f8r6t/j4ETlBeYh4Fg3WaeUUF6XiseDsEzMMHeVyuXkPfaCQil6wBMdAeul7w\n",
              "CUQTmn4xAPf6kSAeRZXlRGsmMKagL+kj5M0xQvcBWQMeZniw5R9wYt6wHNCsQ+Q/PYfmRozAAAAA\n",
              "MUGeXEUVLDP/AAADA5T76DaLFlv4JDaW5/OjmGXElUaD/c0N/5UsgQmAO74dJL4aMmMAAAAWAZ57\n",
              "dEK/AAAGwEqfGLJ1AAIfcZYpswAAAB0Bnn1qQr8AAAbB0MvMQk28MMlGEucAGQigEy9FJAAAAK9B\n",
              "mmJJqEFsmUwIf//+qZYAAAQi7owMIBP75417ctEicJsF1j0OrB4ELNMJ68HKdgbUZbeuBJSOoBNc\n",
              "7bDIiR8TDGvMkP3bcCJ7xgcY5u0X9bqR6/31gCV9Mkzn5mXKQ9W3ccl1PIX+YGmIbWC3Rwv5hy8G\n",
              "HekjwxGoBsFmicSknRQGCQWfQqHSGKOWt/aF1jWNorZXZSnrLy5EijdIwGE74MnhocvhoWPaEIcg\n",
              "RiVAAAAAJUGegEUVLDP/AAADAVlLZw94wiNA4lIp6VvgeABWeA5bMRqi/F0AAAAXAZ6/dEK/AAAD\n",
              "AAw/9PUAaXRo+hJbaNAAAAAZAZ6hakK/AAADAFZr+1ZuiIAbpndmqqXikQAAAGxBmqZJqEFsmUwI\n",
              "f//+qZYAAAQgz+YKRhqIgYXz5l9YBjALTXuqATVUjshv61d8Hl+MBjpg/PnXAhasx71buJz0cOmI\n",
              "cUjUXdf7a//M5IL1/2L7NgnKMgSiZmvOVMcWhUBTFL+eqJvm/icB2YAAAAApQZ7ERRUsM/8AAAMD\n",
              "oLs1Ix2uuj+lty0tkXQur7tvefABkb1/woAqX8EAAAAeAZ7jdEK/AAAGwjgBLySy0t7V82akmwAg\n",
              "7UZ6hLDxAAAAFAGe5WpCvwAAAwAAAwADTOlrxfgHAAAAokGa6kmoQWyZTAh///6plgAABCQIsNYG\n",
              "EAdFEDSC1g6VieYiv4kFvKZZAIXxg/6+eexxhoiIJuatezx5NQdvAzmb2WgmANtX2y+oENAZqIuL\n",
              "xK8WY9FbuAoXMQcGI5KsKlRqX+ZF/DBU5cwCVt6MUAbheg08nnQNbrCedqonmwh0CB4mURvHN6V7\n",
              "gPmVkoTx7pyi6MS6iVgNalsNQM1Z+tI4QQAAACVBnwhFFSwz/wAAAwOe1WteDQTLID4K4AvgyMJt\n",
              "lQCoY7Mv7KGwAAAAFAGfJ3RCvwAAAwAAAwADS/1eiUmMAAAAHAGfKWpCvwAABsHQy8ZfBVvTSMcr\n",
              "cU4Ae8cm0j8AAACNQZsuSahBbJlMCH///qmWAAAEIlsDJgDlQcMAHfHY/T4umHRuU9epALKCH+3N\n",
              "HiXaP5SberopE6+3d70lg6xtvDC5tNKNP8mAep5/IUD2sCg93WfiIDkHk5qwSjLHSBHcfkf4UOSZ\n",
              "3XrR+ctzITwcJh5DxkzcPp0O3hGTv6NwyaLTe487oVPSvfn7GGmgAAAAH0GfTEUVLDP/AAADAHmY\n",
              "Jvzszo/maaT2AReQS4zIcNAAAAAXAZ9rdEK/AAADAOJwGWlyTAA19xO3zk0AAAAZAZ9takK/AAAD\n",
              "AOKymXjyWtpawCUxqjATkQAAAF5Bm3JJqEFsmUwIf//+qZYAAAQh/65oA6GnuLYpXWE2n8h8mED5\n",
              "cZjPVOaEfad1sGlDWkhZWT9YYsyKalTNaeoBit5/7eLovj5fJdM/VabJCTD0zDw5pgobKPqoAC7h\n",
              "AAAAIkGfkEUVLDP/AAADAWumpv/JfpA0coE3Ccn1pAGQiVyckakAAAAZAZ+vdEK/AAADAOJwGWlz\n",
              "FNwVgC1NJaT3IAAAABkBn7FqQr8AAAMA4rKZePJa2lrAJTGqMBORAAAAWkGbtkmoQWyZTAh///6p\n",
              "lgAABCH/3cAOT23AC3/hzAOjwKyXHY0qSyhOU27YjK2CrVbJmg6FSkRJ2QPtYDZTO0EE+RAvY9rF\n",
              "ySRd92FksZ5WCaYivNb5iAAU0AAAACFBn9RFFSwz/wAAAwFrpqb/yX6QNHJwe8SkARxkOZC5gsAA\n",
              "AAAZAZ/zdEK/AAADAOJwGWlzFNwVgC1NJaT3IQAAABkBn/VqQr8AAAMA4rKZePJa2lrAJTGqMBOQ\n",
              "AAAANkGb+kmoQWyZTAh///6plgAABADs2AJbWze1a5KOD5MajQnZlpJ8vnCkKcoBLsisR6/XOAAG\n",
              "LQAAACFBnhhFFSwz/wAAAwFrpqb/yX6C0fncAWJQA7t8Nx+Ob8EAAAAZAZ43dEK/AAADAOJwGWlz\n",
              "FNwVgC1NJaT3IAAAABcBnjlqQr8AAAMA4rKQoKKIgBumUWCI2wAAAE1Bmj5JqEFsmUwIf//+qZYA\n",
              "AAMBlFvQCfQCDZXYMUYSLR/64a2DPyAAC/epvNLpwTGqQOdtuozWwUn0c/t1HdXMLIBYgzFQzDW1\n",
              "YABFwAAAACJBnlxFFSwz/wAAAwFrZdNM7U9QStaf9gzmkAWJqC/gKk9BAAAAGQGee3RCvwAAAwDi\n",
              "cBK/oDPq+MAfr6LSe5EAAAAXAZ59akK/AAADAOKykKCiiIAbplFgiNoAAABtQZpiSahBbJlMCH//\n",
              "/qmWAAAEImML6AI8P4MXFhtY1DDrr8142To3KrRqAISbZ7wz/moaOqyRi8nwuGfNv0Av/nH2PtJt\n",
              "CB0M4HDySQzneLK3PkvovkSaeQ1+lV6IWV9/rhkvSRka0S/NUAAKuAAAACFBnoBFFSwz/wAAAwFr\n",
              "pqb/yX1wWA+5PLOAsAfJ4vVLKXUAAAAXAZ6/dEK/AAADAOJwEKAmKgAmJOu3zkwAAAAZAZ6hakK/\n",
              "AAADAo9f0tcaxGcdABsyJxgJyQAAAERBmqZJqEFsmUwIf//+qZYAAAQiJL3ACtCxqF8aRcOvpqhQ\n",
              "00nPz4AX/TqFVh/9lr+cDsei+7rmPuD9eFw0fvwLoABFwAAAACNBnsRFFSwz/wAAAwFrpqb/yX+2\n",
              "tgF5HHhUyZOQBYNH3PrC8wAAABkBnuN0Qr8AAAMCj5Id5zhntnGAP16o62jxAAAAFQGe5WpCvwAA\n",
              "AwAMQ6U7AFroqwWnwwAAAKpBmupJqEFsmUwIf//+qZYAAAQjBWz1hgCPEDXUan/n42J9pO5yPSLl\n",
              "z0t/qYgQPeXQQ2qzD026qTOFvuiYy0mMme9Fjm/6fNT0WvSJc41qHg8Sy/d1FPPO6gLYQeFlGdEw\n",
              "rUHuCEnf5oOOQlIQ7F9wOp8qpDfstFYWOTiK8hVgOBaJnJKcEvcm4VpInwTeb9Kozb8svsEz5v8R\n",
              "9eE47BfYE/u1q2THONLLVQAAACZBnwhFFSwz/wAAAwOfxrEOHNB+an7O5qW0+rgtH5AAAP3GP9L7\n",
              "sgAAABoBnyd0Qr8AAAbCOACSmdTVcKLdnwCUGGcHrwAAABcBnylqQr8AAAMAH8ZTLx47AB8VDd/V\n",
              "uwAAAGNBmy5JqEFsmUwIf//+qZYAAAQiM7MYAvudo5dx+oZ5yxSiHX/ZCYHsWJsCoSmitcWYTnrB\n",
              "oDiT6d6NBjA4Plry46SFMHqmII9m1KtyTc5ysGQQXIfp/j831HVNe8zNX/AACLgAAAAhQZ9MRRUs\n",
              "M/8AAAMAhuvFRT/WwsB+9PLOAsAfJ4vVLKXUAAAAFwGfa3RCvwAAAwAfvgMtLkmAL7cTt85NAAAA\n",
              "FwGfbWpCvwAAAwDispCgooiAG6ZRYIjbAAAAkEGbckmoQWyZTAh///6plgAABCL2PV6zEAbWSbRq\n",
              "603vrOysOHiATQEa91HtmnKZo2g0aXXREj+JP9UBUSB+2oGG0HPTEfQuTNVfu40xlKgv0VwowNcl\n",
              "d8KH5ki53X+LydmXEybj6sBLxu7Kw4gICrg42FrCzsUJz1+/OSb12xgZQXsbUER8Zu4wFSbZv1rW\n",
              "4QAAACVBn5BFFSwz/wAAAwOgiO8ylZqD2A6pxerNvCIkRAGQ0cotSLuAAAAAGQGfr3RCvwAABsI3\n",
              "/6p3iHupKkAfrQ7q0qAAAAAZAZ+xakK/AAADAPiyl2Y0uBQawBa05xgJyQAAAIxBm7ZJqEFsmUwI\n",
              "f//+qZYAAAQjCKGQ0AOhOQG958xSfcqxw0x2DGwhJgclt+lPKZxaga5uoUioe9I9hfOOas4d6enR\n",
              "c1YlqzyvmmHp6FmTMojGhV2KqwLgLC6+LnwLTOP5AADDW0U2tpDpK02DhKsdnSaaWxP16uWGcqTF\n",
              "1SGdDgUH34HszwOrgABiwAAAAB9Bn9RFFSwz/wAAAwCG67wyuLnEgxpOYArDX6Z8r+WAAAAAGQGf\n",
              "83RCvwAAAwD4cBdiUfD0FYAtTSWk9yEAAAAVAZ/1akK/AAADAAxDpTsAWuirBafCAAAAgEGb+kmo\n",
              "QWyZTAh///6plgAABCAbkJPQA5lk34C5qnHqd5P2Af/MTIUQw+cqKILYI0ZWGpcCSC7a5v7u46t8\n",
              "s8h6KYlH07EXceCcEAEEFoMhhaC/rJJbHcM04JWs+n4ftZrXpRZHXa9Zc5KLVFDEtv/l9EvB9v0B\n",
              "bL1MaJdwACVhAAAAIUGeGEUVLDP/AAADADOGxUyy9/ClSuIAPCAFzOzoNfHWgQAAABUBnjd0Qr8A\n",
              "AAMADD/09QBpdARbzuoAAAAZAZ45akK/AAADAF+dLWK/NJcdABsyJxgJyQAAAJZBmj5JqEFsmUwI\n",
              "f//+qZYAAAQhlqzrwBfkDPt7PyZHYJYpfFzxW3bExp/JTYx0sTPwZ/pHo1U4tDN7Cj6ZSmfKZjHL\n",
              "MtDHXWupLdA+Wx8Sjy4gp0Ai5cG+jTFBt8XvFWIFrO/TUZVEIXSJRow8272mv1VMPPLmt3CKAMLi\n",
              "QOH0ilDDGOH7WEQlMj2N2N1Sbo7Q92YAAnYAAAAnQZ5cRRUsM/8AAAMDn8axCEf7QoP4iTErcR1R\n",
              "0bt2/6AIZt5qCizhAAAAHQGee3RCvwAABsI4AJKZ3c6u+0ZiY2aQBYF6a8ZhAAAAGQGefWpCvwAA\n",
              "AwBfnVOjUN20tYBKY1RgJyAAAACRQZpiSahBbJlMCH///qmWAAAEIPbaAHRQJBfuQAkILQhogoOj\n",
              "YwC58wrnvc+DtZnraqqjvR5nvuFe3SQs2Bk3FRjvn9yRSo1WkM79lqj0btq4oQo155pEyvR6k6EC\n",
              "YTPCM7MwOdGpk4RQrCcjsaGUQT5hzls7W/ms+d1Ky3BwaZEag7AvyZwCcxvL9k/q/hxnoAAAACFB\n",
              "noBFFSwz/wAAAwAzjDxPi87OpUriADwgBczs6DXx1oEAAAAZAZ6/dEK/AAADAF9/2QIAb3lpAH6+\n",
              "i0nuQAAAABcBnqFqQr8AAAMAX50rMaKIgBumUWCI2wAAAG5BmqZJqEFsmUwIf//+qZYAAAQhW124\n",
              "A6Tozm6z19H0gL5QgnP2YWpgiQs6bXxk1GI07QrdDsN6t/brOwnl6k+rZXwzAs1ANAjNVC0RFEaZ\n",
              "4MNzkfuTuockCAuyYr2arVivSLfrzLG7dVVQDoLNgAAAACdBnsRFFSwz/wAAAwOgiO8ynQCnUxyB\n",
              "PvM97N3+GMnpwA01rxm/KiEAAAAfAZ7jdEK/AAAGwjf/oGDiEts2wRpriHZEcAC01/d1/QAAABcB\n",
              "nuVqQr8AAAMCa6/bo3REABxVDd/VuwAAAHxBmupJqEFsmUwIf//+qZYAAAQhiyVQgE+7Njx6jbqX\n",
              "nzqM5utHKoxsFtcefwGnTiTxf+aVY/WBlJz4c6NPron7epn/ta/1eW+ECpdr6O6D19rMzMJ5HJn/\n",
              "JsMIGHV5KMFFEEPQn/DyxbFKwB9DPoBsdmF40yK7X1uy/rcNAAAAH0GfCEUVLDP/AAADADOMPE8m\n",
              "LNtmBMeQBJKfOLlXksAAAAAVAZ8ndEK/AAADAF9/p6gAa/QEW87qAAAAFQGfKWpCvwAAAwBfnSnY\n",
              "AF0oqwWnwwAAAK5Bmy5JqEFsmUwIf//+qZYAAAQhlqybUA3CGSAXoS/kfmtaG7bO3UzD1rUzX+kJ\n",
              "Ug68WGVF6xfInuKa7F+Q7ING3yWVpXSdvjF/rhr9jtAP2VBlhtuGdOZNS8RoMBXn7if5IzlVE4Lq\n",
              "An0XBibENm0OlPCeGf9DFtw6si71F6vdVo9tTBy8V0KvxAwqBcqKcWQAD7YWuxWcWKKBuBohEr3U\n",
              "FgXmU79njMAH+0QEadgAAAAgQZ9MRRUsM/8AAAMDoFe1WCoThMm5OwupQA9BlZ5m45IAAAAaAZ9r\n",
              "dEK/AAADAF9/q9EiusUONeAOdVGnv4kAAAAZAZ9takK/AAAGwH/C2tJOzntgAXQ6FPE3gQAAAIlB\n",
              "m3JJqEFsmUwIf//+qZYAAAQg99aANwhizJqqEsohCgx32R7yHleyTro6nO6TMUCohfUY7OzBBUWz\n",
              "Lx95EGtpngacS+FpldbVTZiQja2wBhp32FXxFLe6l2jE1VaFt9LBBJiFLmrbyUFO2CkABoR79D53\n",
              "achIsk1sxUApvlghxnBMMRhiIZkMPwAAACBBn5BFFSwz/wAAAwAzjDxKLzsdpJwyPAAumLKoLRn2\n",
              "gAAAABcBn690Qr8AAAMAX3/jm8cgAKVtDt7N0AAAABcBn7FqQr8AAAMAX51b77mYAGcZRYIjaQAA\n",
              "AH1Bm7ZJqEFsmUwIf//+qZYAAAQg9toA3CGWbJy/NlGqBuDhYkIOJ4rCSb30QAq1o1P1kaquEvnA\n",
              "nQ8ZDZGH0mtZPL5ET8WvOvgbtF89Zx0fv6bHd+oVLBXbtJvXopwsDwyfL8SjvqbnWq8UAFlABMvw\n",
              "dc2/L0Kdm7yDTZmJ4AAAABxBn9RFFSwz/wAAAwAzjDjORxbUAMQhBMFTJDxAAAAAFwGf83RCvwAA\n",
              "AwBff9kB/qAAfB6D7RkxAAAAFQGf9WpCvwAAAwBfnSnYAF0oqwWnwgAAAI1Bm/pJqEFsmUwIf//+\n",
              "qZYAAAQgXYVnKNHsAKBVj6J9c002BiSE6d4WqI9oYRbmBJ/6CQxypQo9Cd7CI8kEl/cE1rYxHfQi\n",
              "OnAlHcOQIF0qziEkFHGEXtH2cJb9f2gw1w11mwrKAl4brppmGfQd/lqOJbHt4JDENtlk/XAAcyv+\n",
              "2UkmhaFSDIhv0QAAQ8EAAAAhQZ4YRRUsM/8AAAMDoFe1WCoThMm5PQst/4AHoMBdZgyXAAAAFQGe\n",
              "N3RCvwAAAwBff6eoAGv0BFvO6gAAABoBnjlqQr8AAAbAf8La0r3bg5nCgAmrkG7viQAAAGNBmj5J\n",
              "qEFsmUwIf//+qZYAAAQl3QDhAc8yCNbqEJbRdD6Z4B+z+EOIIm4g13Hc/1hO5LUPQC5SkKLr0rCw\n",
              "rrankhGpEx7ONsAQtHbC7s4BIDPWDggNCtTLBaPVbFnTV826b3oAAAAhQZ5cRRUsM/8AAAMAdtgn\n",
              "YO1t3tBiePwPCAFzOzoNfHWhAAAAFQGee3RCvwAAAwBff6eoAGv0BFvO6wAAABUBnn1qQr8AAAMA\n",
              "X50p2ABdKKsFp8IAAAByQZpiSahBbJlMCH///qmWAAADAZSB1aAd5xlxtpLgEyzoAlVtoSE7YnA1\n",
              "RT1M4ZPZdQX3Ndo/X9tCU1Z/dA8Z9QJT53v34zqeLf/a5Zr8KwAvTLxH83IBkImU/CDtwOoyQp7s\n",
              "3YH/dIwJ6Tq0iK3QAAxYAAAAH0GegEUVLDP/AAADAHbYJ2DtarspjScwBWGv0z5X8sEAAAAVAZ6/\n",
              "dEK/AAADAF9/p6gAa/QEW87qAAAAFQGeoWpCvwAAAwBfnSnYAF0oqwWnwwAAAHFBmqZJqEFsmUwI\n",
              "f//+qZYAAAQhOR4iQEneIAEopwVDZtGo8VdDgKJSmUlD7vjwNNDY46O94RVyeNwguywVe7DAX6RY\n",
              "SRzD4qES93SzX+n2AV3CZfft7Vbf3Bt/0XCW1IpIcn1b/s6BFCAKk4NWgABKwAAAACRBnsRFFSwz\n",
              "/wAAAwOfxrD4ibqSNPZqXn/3/kZAwBRcWaBlvWEAAAAYAZ7jdEK/AAAGv/ddd9brucgAFzEwLAsx\n",
              "AAAAFQGe5WpCvwAAAwBfnSnYAF0oqwWnwwAAAIRBmupJqEFsmUwIf//+qZYAAAMBlIGrgLfGlfHL\n",
              "LFHJ3sD+xu5yd2C85PUIKhyUsFvwfIG9GrE4Wxm6pXnDKldpYbwueOVi2NoYrK2VmGBctoZzbxvL\n",
              "NWPJt3ywvPkalM08gzd1Gnghrm17jLi/y1Rm61cOfVw8MhFm8c020/wQR0AAI+EAAAAfQZ8IRRUs\n",
              "M/8AAAMAdtgnYO1quymNJzAFYa/TPlfywAAAABcBnyd0Qr8AAAMAX3+r0SioADfPQfaMmAAAABgB\n",
              "nylqQr8AAAMCjtODVxiztAA2BwzvtUUAAABxQZsuSahBbJlMCH///qmWAAAEAOzYAw2hk5VP5QBo\n",
              "8MYYNM4aojjn1P/Nm1yfZqrEDJKYASwEgWgDHIo3rV2G+hhWPRH+UThiMpEkliLwgPl+0MNkKQff\n",
              "yh7oRbYg/8r5/XwmmlslXpLbrwN7uAsABxwAAAAfQZ9MRRUsM/8AAAMBYlDtLWlb4l+rM/kAQDBU\n",
              "4QNDugAAABUBn2t0Qr8AAAMAX3+nqABr9ARbzusAAAAVAZ9takK/AAADAF+dKdgAXSirBafDAAAA\n",
              "aUGbckmoQWyZTAh///6plgAAAwGUxj2PbkcQBU8DT7cIiLc89WEL3wMyt+b53bFsUNnMmhW19lu9\n",
              "zux4SUqEWkMnPmWpcxHnsN8sxeWR8+jP2YSp6/dS3HuBvH6nsxaEtMAgQdkuFgACpwAAAB1Bn5BF\n",
              "FSwz/wAAAwFiUOZe4uWWD4sAmMcS5ug7kQAAABUBn690Qr8AAAMAX3+nqABr9ARbzuoAAAAVAZ+x\n",
              "akK/AAADAF+dKdgAXSirBafDAAAAbkGbtkmoQWyZTAh///6plgAAAwGUgdWgU8uFCnr7JP9i236M\n",
              "J7aqdgKExoRZwTaS9aCp3/oxBLd1Jbm43lDe/ZuYgQh/5LJFvuf1FmoGph2FknwAyVJJG5R51x7r\n",
              "PlPJCAGu/PlFTqhtv9gxgAF3AAAAHUGf1EUVLDP/AAADADOMO/+L24CnxYBMYeh11HCLAAAAFwGf\n",
              "83RCvwAAAwKOmFL+fqgAMPcTt85NAAAAFQGf9WpCvwAAAwBfnSnYAF0oqwWnwgAAABhBm/lJqEFs\n",
              "mUwIV//+OEAAAAMAAAMABU0AAAAdQZ4XRRUsK/8AAAMAX6w9XcJoXqtIBBYf1FJ2ZaEAAAAVAZ44\n",
              "akK/AAADAF+dKdgAXSirBafCAAAR9WWIggAEv/73rd+BTcBA7Wu6Vzi0y6uUND1R9pSmeLZIAAAD\n",
              "AAADAAAP8M2+n1EV15emAAADAH4AEuRjHZdtk7cQBVc5LNAEQ1RnXnm5BYt5oorXZ+4Ji5Muqnl3\n",
              "mc6pz4bxDB+COdvFbjdYH/4GMc047cTcp2sfGVDRLOFyU2oEULBWp2DE4fQAk84OL2HmCmSlO0ol\n",
              "ZORVDUHOjPilwzdUXZf6DnK+Yjs5zADsAJ63b6iZw2U7Y/q1oLtWFWK6BZZj1f+ozQmpfzu3CvVC\n",
              "CrUhznU/4fgYxHYspeUZaDBL/sdRi+ZuzFdrNHUHqmFP0nT8k19HVb1G5qRPiJulHCw2zjY/Dv6O\n",
              "2YcZLLwNuNNE+QqSbdE8B1aibZLZfWKhjGstXWAjvTQRnnzXaWErNxqQ47Y6ki7J0SeBsh5j6I+K\n",
              "OdAA19pzJzD/nmAI2ENt/CVOM5f+T7OSCoGkV5uxBI0rLtMQB2pvgT6qHttn0tNPPems5GuC/G4U\n",
              "x+g9VmE36V7thzr0P68N5ZMz4sUhe8BUaq8uMmHhTOGemjnmU1hfKWmHpaIfnrPL94/m2UQphMoH\n",
              "p/O07MzvK/DdeEkT768kSH2Qg1mNm35M5n7C+VvEC0WAQhGc61PqtcEoi0VfrNalopfDnlEgD5Zt\n",
              "hXnBF6q5/Dv/hrPAkiMLd7EDP+Mij2+HeKXZ5wswXFv55drBXlngxZ3zQPenHpTCAMK7fS5YAJir\n",
              "V3vciGYegBbC1oDFwKEJpoDGW92G15nzF7KJ0/J6xGDcez2A0iGLkxjiRXO5QlFF+nmBE/NTzmYM\n",
              "S+e/97wttLtf6QTWZWwzNSQm1/nr1ADs2Fe0QpLEc7Bls3CljKaLTiHIrYDJept2XufhiQ1F9z8o\n",
              "lAJgfiBpzhefmUqr+A1EC58/4I3Ah+cm5Q4Ft+6Q/9Chuygv7Iv1XqxTfnQhVQUd7RhBQkggC7Cl\n",
              "xWLKfjTARbpyjnDOPPkqzgQeGVmrELXcFQhNdgCkOyOpwBAx82uEm11m9aFHII0ep/EkeY+ZO1/J\n",
              "8nuJ9grgqog4Nl8Iva8bfYlAHsEhafNlAaGCXFHRQr5LUE4J4q005IRQqN4Tjz4G3X0SRYLeq2sS\n",
              "dcXU0823hKHn/w5qpAI0CDvL9u8x382heUYlkdc3l2idhXD//UbznWgNqT/8DQMyGs3Z6KQA4Tfy\n",
              "3dLLyk+h3Ydian7aUEx3bFnQoZiN2XknOGeePqGx1BsraSVRxm/NxwP54OlZ5tTf3xhjW1nqk7VI\n",
              "XBHR2M1ShlWz4vXreB38qG9nB50RMeH7Nlr5tFwBIw7Ni8Vc309CE3qYfUCzGRZrFIbcpE4X8Sm3\n",
              "hO9I+od8Bxung3nUNK6IMTe8K5IyM4zLl7TomqIMb/Xc8alvBosyBVFf6S5M1jH9pGio+aMQZTr3\n",
              "jCzGNEJjiK2BkSug26+nU0L9WykfMauBJSXpcqJhnXVnqu/Ayufn0d1YbNZaT2T9RTA48QmGfdoB\n",
              "25Qxyn9RA12JCqnNmfvVc7TVUVHrQuHMK3rwdwSW2z746mp+vtSj3TKptOjgwekwVKD4QP6Tm9sE\n",
              "H8WLfwMs4f5RUczlbfhdA8C55pxrpXclXExtY1qy5zS/dK0RzUmY8I8/H7rNM9ZQk8FBiyZVMScE\n",
              "EvtMd0CzZmpYQlxvXpsLQuQEZr1EDaXkxsjo0jI+ueq/mFZ1fgpeKM+agZAfX2s6Tp66KBjnCnKx\n",
              "MBuXgcQKdTUY2SI/OA4VVgiJ1CMVfdiGJfcmFaz7D0TWUqERbk4kn85LYrzm1jyHtgLBqLyMtv0N\n",
              "ORaecD+Fvo6xuBhnOHpSNgfH3o8mG8EzYLvK1wNGARpdO8Ynf2JcApUNw/JP6218A8LiquymLjC8\n",
              "dTRBZkLiCpvn72GDzU+YVaanymAHjNDOE6wEF/ZcTW5HrOLZ3hUI5276wQUDHGC2R1JMWTjxJyHO\n",
              "q/giXmnCuqg8Ix5c9HrrL1ZlK2wfM0E5G/sYjqIdAiJCJ1vMcBwZHCEWjCtAgZUdXFc2P4rlFP0X\n",
              "JO2HUaqii4qetLrHEU0k4OhlAnKVj4r6aWS1P7dRdCZlTtzToTSXm7HJ/5zfl8a0aUkBtvRxKJKA\n",
              "E6MN0eYiNXbVnsoHix/h7FFBlQf7JF5Po2onQXKqiWHDRj0D4k0vyj/vyBpRdIusLf6hu+vvoBXr\n",
              "rf9+McEscbZSkFVhEAtjKNoOtx4wTuUbEAFas3Fzn/M5Mj/OO5D1J22J8QV+RqLfAm3yRJzwFH+w\n",
              "tXEJHyabWpD3Hisbvz7NjqCUY5GVFRpahKetMVZoj0fLQJU6HQdSxXyw5RyZvq2hu9pFpmEN/cPM\n",
              "G+BMDRmQLImb1LJFAPYRgHtjCNPdbA0+IaxIpTlBo0qtnjytyIHm+/9o5EOrnIqgrPxLv8RacAc5\n",
              "JtYRmdxTxZwPzKLV3laox3Db18AsrRU/2/ZTi13Hg8UhG7J343D3FWtOiGCpQ67iaaRM1FoRYT80\n",
              "hVSIstCI/eTvD8wvPNMWrHg73Irm20GCaq1RI041L6IAOhYju46wCgvW8Ji9BLhjJBUWeQf1LvUv\n",
              "Bm/bfVpsNM1Ny+Qck13XqpDhl3MBkDsuAhWNPYKAbC9axYOlWqSLtbqvBSpEGuS9gxO+oz4Y2CH/\n",
              "dd6Lsp4Ue++pvVdGVO0/suV3duy4ExP26DrHqSbEgeJhEE7zWaDKnCwX9sSKjMfVP9+bnBzusBG6\n",
              "ZrKWRtpqL1AG8o55vbg6uQHYrzDGwP09bZ8OE0KgyPSGXg1jlpRsJGewoCK3hwKbRz3nmvMNAd6V\n",
              "E97ahBFe2bs6lHrgFMKDUGWDamy4iYE9GKMqdEkS4YEA5q3nAkI35RXlvesDYr6Vvh7QBMcrSkW6\n",
              "kop+Z0iyNug1p59tboERePyt38zyNk+Mlbtq4yX+I2GrOTC0b/5um0qgDdWA9jgl6wBbeu62Wq83\n",
              "ZSaFs/d+PPWpDh3nTF4K0RsUSxGD52niElLMn5G5coobNEnF4R/mxktaFYwoudF6VWrubF2cEuKe\n",
              "fzV//2xUKjAR+0L+1ShU1HcTRNJ1EPQAfoZOjbsNeaWyZgFSZF4mIYn00nv23+8aKEG2bvoE5B7R\n",
              "yd7jyM7nGWQj40FJX6jm91AYaWzVu6Wxh7372//g19nFsIijMPL9OZ+qhlaT6F9Lf+oDnpE7jK9N\n",
              "l1s9rgAF18gSLSQsotnRPMbET7doTecoKXM9EawvIcEY+vciIKX/Hq0anX60Hvi62fxyC9WpUGBe\n",
              "vnwZPJ+s27A4PInKKOjN/nOhvg4AnMZntaRixmES3cvEnPtFWlDbRih+KYIaZMoWIm3vr6vtqrqO\n",
              "cV4l8ovnGeI7Z0Q8IybNj+zoVBiy/V/EmzI3IiifCknmcgL7BLPpWhqhVhc4EE0a+tYViZyDFY3z\n",
              "5d1ecDSuM8rdBp952KOmNjoHEDFho6MQMUkT73ZIqUCErEWP4VQkCJrAoh2CN5WBFdcjyeUxaFJD\n",
              "MJrIrTNga+PMjWLbwM3Cwk9vGk3ABlAAKMAZrxaJeV8K2R5s3qwNCbscJViWgY0hqWGjoSDwJJsJ\n",
              "JPvhrM/EywM5QT3sDxMJSNpbEPsOyisL1uQZO7Ar+R+OwTmOj+2OnZ4pRnduost4wuBgPxHNSewf\n",
              "FzXHLKT7t7h9Y9wVztF6aqLo3L1+yQ0+HfBjenYT/Vjor0qkkjZGs3YvAtOvlhlO5M4AKGxEpmrJ\n",
              "lRdYFFNLE0zB4OaZTPU2kIWXUGclUiCDPDqaFFfoAzexhHVpyiC/4veqOQZGh34i66amzqKkRxfW\n",
              "uk55rvfl7RavYWl0X4rzvWJ1MlxCj8TRAAKnK6Tv0igAADZ4dT1gNivwwsICy4AjAqD4JQe7EMeg\n",
              "MtMGccNXAVZL8ILvk2clvJBf4AuKyUdd0mZ82DHUlnbch17/YMekAnnH1ybp5CB5ldifL/cGA82q\n",
              "9tjkafU73sb5BG2iD/2giXPShY5lGwaYCxOtr+S8LR8UXQd+JiuJ/8DC0AvM8fmHOA4jmAvKH8W2\n",
              "MN1HdvmTQ4WA9tggDe6sxANMt7+BalvM+JcCWPFrFGozKh2fYC+ofCSrP9GKIpROAih1g8+Em4nN\n",
              "IPutMXYR6MkBMwrjrwFJ/b5WhRwABcfpW4RNj2FRRfkljPMCLxrFgD20DoyaE5sWAgBVKLaWjzmE\n",
              "UcYwwOWWsEk1ul/R0uR/wRWKa3NxL0noiAZ2vItEEGxfHam5rXQuZuV1hJBf4+hu2s8DYmaT7BGe\n",
              "T5gaC/KO6SpcjY/gVl9FBgcJct98Wo7d/M8sWIESEn3MAv9R/S8fjmO8FrbQieqEKPtFSkOsCU8L\n",
              "XOIZSRBNCyho3rN5JGps84BjJRdBS8Y8dr7wNOLXaZs1aX8g3B7cERksE6g9HPBu06XcfE69DZeF\n",
              "xDS43X6FNfklfJvMfMLWK0Z2y+35h9W/XX9N4yNY7TBP8VeH43vZ9G0l23sJhL2kVXOkSK727KjN\n",
              "arakzjra68eiCjwOegliJ8x0s3TCKH/9rx0haSCVcRR48R2Wg9zArfrdcQDdpqfFeB/zZPspRbTv\n",
              "qzvwxtaYEVZNQfBQZUwwmy++g8j8R0D5CTOuoWbDkJO53+bIlUOjvfku+bYeLUYNV8efOnk47OSx\n",
              "VRHZslPdfOSf0x6NkI//qFeLO68ogD6cxtN123LWFGGs95p7/PWe5afmreVHyGW3Lq+VdVkdO8Ko\n",
              "BuP5evpPawdaii9Z+FunDj6Aea1BKyi/cExOeOH5X0rZBT8ZXMGEwAC0mhVXtbW7TwespjEZOGkI\n",
              "H3ksrqAhzbRMAi8/JmOQLZfFcbsyPXr70PJYLtg5r7isIgo8B51/YUMLNSDNRKgDQ99UYSN7mlRv\n",
              "0vNA4Rp6puVPGbZf0IvU9vuiBSSa3uBXJml6D/yJlHWKtJID+PKb5eJD0qLkJT+m4jdspN7AsQ1A\n",
              "a7eetLZ8kkNGhUOVWK2IdEBu0NjwR1ZSEd4D5f/cxYXW7tjsGwBbrKDxumBRCnyGS3tlJMDINWR0\n",
              "B7YG1xN9LeMxqgUIoMs3CzEPilv8uWnx4OAivYqkTXTe5an6XVJLyZFaMIHgR3nCat93oqa/aQyD\n",
              "gCLEr9ZS3TkK8ebTHvVM/FdPQOyWPClqXKBNCN/bVFvZPcZlWxR+A57SBFfPv3Cs+2PDw8pxkMDr\n",
              "K9Wk1jwWzPHjipmd6F9A4ZFjg8KKLLMuJafHO9Rkrpj5PoRp/2nhvlLDqzV7bzq7+4KNpC8ZELSn\n",
              "3qwLauDjgqwwvj7pSQpnzHCMeaLXNOqADymyrn7Dz8m4rGj2VIfz9/zxfse6mWcNssycRNy7dMbM\n",
              "SqGW52KvFNWkaMHp1v2IQQRNXl8wCg1XuSUv5H+CmPk18muImFSdN9SUxri3idMAj9WfS0+gYfcX\n",
              "E6Liig84PPRPf+i9+94C6SeLzZqlrTpH+PWgCEQPJij0EAo3cD4TrQN1OLe1292mQJNr8nbwEoHY\n",
              "5djKWTqBXLOuJ+hbu3l06dpmM/O9rWfHh8vVDUSQhi50A/7LvJc9Lk5pF6cOXoUxUuztXrIv3fa/\n",
              "mR3Z69tW7uKtwFEBxUx9cdEhkyvjrne4EZYPKrBdjpIetZ+1SvToduYsoghXmNt7UselPh0U1pjp\n",
              "WBjtup///fAUmf41vz0Olm1UYS6MdUsM/xBibxb7qZh55E7r1bgu5aQT8C2oZSSJGGM5hDftU3OB\n",
              "4L63oc7pL+XagnOoX+KspYhelfA+Bh306GJuqyQGe1A4824aFPPRXTb+l/ykvD8nNIgRy6C3Lqtt\n",
              "aXjWIWvLOd8tQnS2KSSein+RxbN5JDihItOVbxfJT5KfTqdVi34YrlDPiJDmXVb+j0q23E5vwI+f\n",
              "OVoSrt2h/KbytW+p5KS0Nm2xry9tj5vXfm9v//5sB0h0r8M4B1AfUbg935FeQFWuukaXwT7b0H+0\n",
              "IvSqhwHFTZ2ofinXaaqzTsVScDtAovYX+/NN5pCp4jDVr6ON0Vo/0pFiOVmwo/8EPtwnZdZa+8p3\n",
              "9ZdBDzyIbthIBQSL1cZI6wjlNKD0gGqojAknrv68E7sqGeSANiqiw+qZnnBmmC7W/VcpufsGpnli\n",
              "viuD9GBtc7awQJyiWenTbL7j11Mf//XOKGm/2rGmYm5P5gA4qIfVpucz7XE0i+YHqxbpmCADPgAA\n",
              "HBEAAABMQZokbEP//qmWAAADAYxq5cASMtBvsGNAO9uYggmmbkzkrk2njbGZd/x/eSjRAISV8YE2\n",
              "TM1+a1kwtwb5frFmABbd9tKHfZRdbn6hHwAAABBBnkJ4hn8AAAMAAAMAACbhAAAAEgGeYXRCvwAA\n",
              "AwAAAwAPiXR9+wAAABABnmNqQr8AAAMAAAMAAEfAAAAATkGaaEmoQWiZTAh///6plgAAAwGUgmPb\n",
              "u7gAOmevTC5G/iHa8Bj4o+QQSfClC0RgsbY462mq01iZRWOjfdv6TFt/vwRpXCi4J2xrAAAb0AAA\n",
              "ABJBnoZFESwz/wAAAwAAAwAAJuEAAAAQAZ6ldEK/AAADAAADAABHwAAAABABnqdqQr8AAAMAAAMA\n",
              "AEfBAAAAT0GarEmoQWyZTAh///6plgAAAwGKmmqAJU4mk10mzNXS0HgTYqEu0tSQ5HsJlVZYeUye\n",
              "JIu7vltRsduhjzpFmWN3VdJQy/JIWHfPRvQACLgAAAAUQZ7KRRUsM/8AAAMALXTUkgAAxYEAAAAQ\n",
              "AZ7pdEK/AAADAAADAABHwQAAABABnutqQr8AAAMAAAMAAEfBAAAAVUGa8EmoQWyZTAh///6plgAA\n",
              "BCDRDGMeG694PWtNJ3z4MjRKEppCmbX5RlgwbniwpFaI3Zn2j+D2o1dWrcyrGhWWrec69NRW6lPr\n",
              "kh7cmeFsILMAAS8AAAAYQZ8ORRUsM/8AAAMDn8aw+Ii067xwAB1wAAAAEgGfLXRCvwAABsI4APki\n",
              "sAACggAAABABny9qQr8AAAMAAAMAAEfBAAAAIUGbNEmoQWyZTAh///6plgAAAwCQI8F8AT9btMvL\n",
              "AAAj4AAAABRBn1JFFSwz/wAAAwAtdNSSAADFgAAAABABn3F0Qr8AAAMAAAMAAEfBAAAAEAGfc2pC\n",
              "vwAAAwAAAwAAR8EAAAA/QZt4SahBbJlMCH///qmWAAADAJAjH3wCESiEMyLmiJxgQa5syjZFbml8\n",
              "KjtSWSvjBhAWtxfNgAAaSs1UAAZ9AAAAFEGflkUVLDP/AAADAC101JIAAMWAAAAAEAGftXRCvwAA\n",
              "AwAAAwAAR8AAAAAQAZ+3akK/AAADAAADAABHwQAAABlBm7xJqEFsmUwIf//+qZYAAAMAAAMAACzg\n",
              "AAAAFEGf2kUVLDP/AAADAC101JIAAMWAAAAAEAGf+XRCvwAAAwAAAwAAR8EAAAAQAZ/7akK/AAAD\n",
              "AAADAABHwAAAABlBm+BJqEFsmUwIf//+qZYAAAMAAAMAACzhAAAAFEGeHkUVLDP/AAADAC101JIA\n",
              "AMWBAAAAEAGePXRCvwAAAwAAAwAAR8AAAAAQAZ4/akK/AAADAAADAABHwQAAABlBmiRJqEFsmUwI\n",
              "f//+qZYAAAMAAAMAACzgAAAAFEGeQkUVLDP/AAADAC101JIAAMWBAAAAEAGeYXRCvwAAAwAAAwAA\n",
              "R8EAAAAQAZ5jakK/AAADAAADAABHwAAAACRBmmhJqEFsmUwIf//+qZYAAAQg98MBwLpNgaNmNFMs\n",
              "u4AAFbAAAAAUQZ6GRRUsM/8AAAMALXTUkgAAxYEAAAAQAZ6ldEK/AAADAAADAABHwAAAABABnqdq\n",
              "Qr8AAAMAAAMAAEfBAAAAQkGarEmoQWyZTAh///6plgAABCDP5gn40Aewy1lnRPrv/hqolqu4/PRw\n",
              "W68bd6XcJfwAwit2oS3c80Ta/TfgMAABFwAAABhBnspFFSwz/wAAAwOfxrD4iLTrvHAAHXEAAAAT\n",
              "AZ7pdEK/AAAGv/ddNi+UgAAELQAAABABnutqQr8AAAMAAAMAAEfBAAAALkGa8EmoQWyZTAh///6p\n",
              "lgAAAwGVTvBptk2wByloSYzsAblszEmjEqMY3KAAAf8AAAAUQZ8ORRUsM/8AAAMALXTUkgAAxYAA\n",
              "AAARAZ8tdEK/AAADAo6YRsAACTgAAAAQAZ8vakK/AAADAAADAABHwQAAAERBmzRJqEFsmUwIf//+\n",
              "qZYAAAMBipqLAAnsURaZryDMvc3kdSoWyXteHr0W4XKwjsRv165wMwu8SMFViZ4EWhfvEgABgQAA\n",
              "ABRBn1JFFSwz/wAAAwAtdNSSAADFgAAAABABn3F0Qr8AAAMAAAMAAEfBAAAAEAGfc2pCvwAAAwAA\n",
              "AwAAR8EAAAA9QZt4SahBbJlMCH///qmWAAADAYqXvgAlgxDYdfsrtp0nag8cikIPrp0r+c8d2XNH\n",
              "PQQZycI339MuQAAIOQAAABRBn5ZFFSwz/wAAAwAtdNSSAADFgAAAABABn7V0Qr8AAAMAAAMAAEfA\n",
              "AAAAEAGft2pCvwAAAwAAAwAAR8EAAABOQZu8SahBbJlMCH///qmWAAADAYwQm3AFBfVpQjzDvCvz\n",
              "/LiJk71m+hL0zUKpIiHXW4swq7RU3AcTrtQwQWg4Pmn2IqmNLpwxyDH9AAJGAAAAFEGf2kUVLDP/\n",
              "AAADAC101JIAAMWAAAAAEAGf+XRCvwAAAwAAAwAAR8EAAAAQAZ/7akK/AAADAAADAABHwAAAAEZB\n",
              "m+BJqEFsmUwIf//+qZYAAAMBlUDot7b0oAXOGBIsKakgFLxq1LlBb4MwIfJQ1uWFd2QRdn1lVz4D\n",
              "l8/8/fOag/8YAAEXAAAAEkGeHkUVLDP/AAADAAADAAAm4QAAABEBnj10Qr8AAAMCjphGwAAJOAAA\n",
              "ABABnj9qQr8AAAMAAAMAAEfBAAAAREGaJEmoQWyZTAh///6plgAAAwGKmmqAJrjAXEJOSqu0v2Vz\n",
              "62pUg1oakNOcLtwq7EhLKXsXs5efSzeotMSgme/4AAN6AAAAEkGeQkUVLDP/AAADAAADAAAm4QAA\n",
              "ABABnmF0Qr8AAAMAAAMAAEfBAAAAEAGeY2pCvwAAAwAAAwAAR8AAAAA/QZpoSahBbJlMCH///qmW\n",
              "AAADAYrCHxgEHUXTtQi+oVS87TzK9obEhKpJTOEloLCfKqOJIasirQV5PPUAABqQAAAAEkGehkUV\n",
              "LDP/AAADAAADAAAm4QAAABABnqV0Qr8AAAMAAAMAAEfAAAAAEAGep2pCvwAAAwAAAwAAR8EAAABp\n",
              "QZqsSahBbJlMCH///qmWAAADAZSaaoS+ZLPMb0f/XOvM+prdx8GrznQ0Hnrh1YIvKQLXVGQmCBKX\n",
              "i39vIQ7SI6McmWoUVbuOkUr0FPKuuGZl4dH6WwP433xPJROSxJtDebLoxZoAANSAAAAAF0GeykUV\n",
              "LDP/AAADAH75Cw++W4qAAM+BAAAAEAGe6XRCvwAAAwAAAwAAR8EAAAAQAZ7rakK/AAADAAADAABH\n",
              "wQAAAExBmvBJqEFsmUwIf//+qZYAAAMBippqgCSbiVBBmOFN7KSBttUE3oMKfH6T+C1d8iLpQ/PX\n",
              "lhCF+IGnpf6poV9aeor5/ngI3rCAAF3BAAAAEkGfDkUVLDP/AAADAAADAAAm4AAAABABny10Qr8A\n",
              "AAMAAAMAAEfAAAAAEAGfL2pCvwAAAwAAAwAAR8EAAABbQZs0SahBbJlMCH///qmWAAADAZUW8dEX\n",
              "rK1BM8rWUtuM3UGU1TZNvA7BZHAykM94uPwUAn6quahIg3U+yd3e1fEGMN1EBL0e1wbNE5lWiAQW\n",
              "GNE2aOCngACkgAAAABNBn1JFFSwz/wAAAwFiUOFAAAPSAAAAEAGfcXRCvwAAAwAAAwAAR8EAAAAQ\n",
              "AZ9zakK/AAADAAADAABHwQAAAENBm3hJqEFsmUwIf//+qZYAAAMBgJ5LoAchvckf2QUf7m9NBgVd\n",
              "+vUDefAxao2OmN6DF1L+ueqMhPoRVVnNOb+TAAKLAAAAEkGflkUVLDP/AAADAAADAAAm4AAAABAB\n",
              "n7V0Qr8AAAMAAAMAAEfAAAAAEAGft2pCvwAAAwAAAwAAR8EAAABHQZu8SahBbJlMCH///qmWAAAD\n",
              "AZSaaoKE82FhzzsHklNm0PJgOklbxGfZM+FEeX1pPjGBNJnY+DwqVDqoZaYkBcd6TcAAbUAAAAAS\n",
              "QZ/aRRUsM/8AAAMAAAMAACbgAAAAEAGf+XRCvwAAAwAAAwAAR8EAAAAQAZ/7akK/AAADAAADAABH\n",
              "wAAAAG9Bm+BJqEFsmUwIf//+qZYAAAMBipwJgEHF8qBd/Z49R7WBPneGFTZyvDPketzZLA3lJtDA\n",
              "OWv5ILlwiA44IJBOsNvgOmI52OyiRVUEZJ3qcq/Qvez9KiFun6cc8lsN0X7w4ZexPK6Zw1lPYAAA\n",
              "poEAAAASQZ4eRRUsM/8AAAMAAAMAACbhAAAAEAGePXRCvwAAAwAAAwAAR8AAAAAQAZ4/akK/AAAD\n",
              "AAADAABHwQAAAEZBmiRJqEFsmUwIf//+qZYAAAMBlJpqgoQkeCHtxQJQXaQIyHr4nf0uimVatc05\n",
              "mV+4PEJoLAxhmbuGOQvMea5Ldi+AAC7gAAAAEkGeQkUVLDP/AAADAAADAAAm4QAAABABnmF0Qr8A\n",
              "AAMAAAMAAEfBAAAAEAGeY2pCvwAAAwAAAwAAR8AAAABoQZpoSahBbJlMCH///qmWAAADAZSaiwCL\n",
              "nfIvBmestK+04yGfRtwnotRo7jzVXEqbwYEmjBPHIpoXEpvkHWj1M4ID1WpUEbX5eeHuB5Pk/3+2\n",
              "UNdOMYeZdxbOHIlmhYMvYgFTuoQAB6QAAAASQZ6GRRUsM/8AAAMAAAMAACbhAAAAEQGepXRCvwAA\n",
              "AwJ8mEbAAAl4AAAAEAGep2pCvwAAAwAAAwAAR8EAAAA4QZqsSahBbJlMCH///qmWAAADAYCeU8AC\n",
              "cgctBqfePznig6zyohDVvYPlAKgf2ZMZfRXkoIAA5YAAAAATQZ7KRRUsM/8AAAMAEViyFAAE3QAA\n",
              "ABABnul0Qr8AAAMAAAMAAEfBAAAAEAGe62pCvwAAAwAAAwAAR8EAAABNQZrwSahBbJlMCH///qmW\n",
              "AAADAZSaaoKER8X7rJ180+gab1w/t+GqE4aWW6Xwkv3Ghd80YDlpBI1fi4Hajprdz5eCsEQ2oYlG\n",
              "yVAAM+EAAAATQZ8ORRUsM/8AAAMBYlDhQAAD0gAAABABny10Qr8AAAMAAAMAAEfAAAAAEAGfL2pC\n",
              "vwAAAwAAAwAAR8EAAAAkQZs0SahBbJlMCH///qmWAAADAYCfRvQBPv4GpAMS5DQAAC7gAAAAEkGf\n",
              "UkUVLDP/AAADAAADAAAm4AAAABABn3F0Qr8AAAMAAAMAAEfBAAAAEAGfc2pCvwAAAwAAAwAAR8EA\n",
              "AABmQZt4SahBbJlMCH///qmWAAADAZSaaoKDPAVFFSNY4tyaqyeODhjy8de/1w7KPSKX0vApAOrZ\n",
              "5AUQEC9+qdbyDq/9Rtfkk8WsLKEDROe8QnE+M24XJe6PnhZhLkNJ9OXT36kSAAZ9AAAAEkGflkUV\n",
              "LDP/AAADAAADAAAm4AAAABABn7V0Qr8AAAMAAAMAAEfAAAAAEAGft2pCvwAAAwAAAwAAR8EAAAA1\n",
              "QZu8SahBbJlMCH///qmWAAADAYCeMGoBBYAIAWRUO353DIWuYY/JAWzY9Xk/ZFR/b4sAAQ8AAAAS\n",
              "QZ/aRRUsM/8AAAMAAAMAACbgAAAAEAGf+XRCvwAAAwAAAwAAR8EAAAAQAZ/7akK/AAADAAADAABH\n",
              "wAAAADxBm+BJqEFsmUwIf//+qZYAAAMBiu42YAme/YG7sMtpEbovn5xh2pgdM4oO8KQqQas3gsQV\n",
              "Y7MjBFAAAUEAAAASQZ4eRRUsM/8AAAMAAAMAACbhAAAAEAGePXRCvwAAAwAAAwAAR8AAAAAQAZ4/\n",
              "akK/AAADAAADAABHwQAAAC5BmiRJqEFsmUwIf//+qZYAAAMBgJ5TwAKEGUIAvVBzOVfLBDz2GqAg\n",
              "xPQAAIOAAAAAEkGeQkUVLDP/AAADAAADAAAm4QAAABABnmF0Qr8AAAMAAAMAAEfBAAAAEAGeY2pC\n",
              "vwAAAwAAAwAAR8AAAAAZQZpoSahBbJlMCH///qmWAAADAAADAAAs4AAAABJBnoZFFSwz/wAAAwAA\n",
              "AwAAJuEAAAAQAZ6ldEK/AAADAAADAABHwAAAABABnqdqQr8AAAMAAAMAAEfBAAAAGUGarEmoQWyZ\n",
              "TAh///6plgAAAwAAAwAALOAAAAASQZ7KRRUsM/8AAAMAAAMAACbhAAAAEAGe6XRCvwAAAwAAAwAA\n",
              "R8EAAAAQAZ7rakK/AAADAAADAABHwQAAABlBmvBJqEFsmUwIf//+qZYAAAMAAAMAACzhAAAAEkGf\n",
              "DkUVLDP/AAADAAADAAAm4AAAABABny10Qr8AAAMAAAMAAEfAAAAAEAGfL2pCvwAAAwAAAwAAR8EA\n",
              "AAAZQZs0SahBbJlMCH///qmWAAADAAADAAAs4AAAABJBn1JFFSwz/wAAAwAAAwAAJuAAAAAQAZ9x\n",
              "dEK/AAADAAADAABHwQAAABABn3NqQr8AAAMAAAMAAEfBAAAAGUGbeEmoQWyZTAh///6plgAAAwAA\n",
              "AwAALOEAAAASQZ+WRRUsM/8AAAMAAAMAACbgAAAAEAGftXRCvwAAAwAAAwAAR8AAAAAQAZ+3akK/\n",
              "AAADAAADAABHwQAAABlBm7xJqEFsmUwId//+qZYAAAMAAAMAACzgAAAAEkGf2kUVLDP/AAADAAAD\n",
              "AAAm4AAAABABn/l0Qr8AAAMAAAMAAEfBAAAAEAGf+2pCvwAAAwAAAwAAR8AAAAAZQZvgSahBbJlM\n",
              "CHf//qmWAAADAAADAAAs4QAAABJBnh5FFSwz/wAAAwAAAwAAJuEAAAAQAZ49dEK/AAADAAADAABH\n",
              "wAAAABABnj9qQr8AAAMAAAMAAEfBAAAAGUGaJEmoQWyZTAhv//6nhAAAAwAAAwAAWUAAAAASQZ5C\n",
              "RRUsM/8AAAMAAAMAACbhAAAAEAGeYXRCvwAAAwAAAwAAR8EAAAAQAZ5jakK/AAADAAADAABHwAAA\n",
              "ABhBmmdJqEFsmUwIV//+OEAAAAMAAAMABUwAAAASQZ6FRRUsL/8AAAMAAAMAADUhAAAAEAGepmpC\n",
              "vwAAAwAAAwAAR8AAABaWbW9vdgAAAGxtdmhkAAAAAAAAAAAAAAAAAAAD6AAAUaQAAQAAAQAAAAAA\n",
              "AAAAAAAAAAEAAAAAAAAAAAAAAAAAAAABAAAAAAAAAAAAAAAAAABAAAAAAAAAAAAAAAAAAAAAAAAA\n",
              "AAAAAAAAAAAAAAAAAgAAFcB0cmFrAAAAXHRraGQAAAADAAAAAAAAAAAAAAABAAAAAAAAUaQAAAAA\n",
              "AAAAAAAAAAAAAAAAAAEAAAAAAAAAAAAAAAAAAAABAAAAAAAAAAAAAAAAAABAAAAAAoAAAAHgAAAA\n",
              "AAAkZWR0cwAAABxlbHN0AAAAAAAAAAEAAFGkAAAEAAABAAAAABU4bWRpYQAAACBtZGhkAAAAAAAA\n",
              "AAAAAAAAAAAoAAADRABVxAAAAAAALWhkbHIAAAAAAAAAAHZpZGUAAAAAAAAAAAAAAABWaWRlb0hh\n",
              "bmRsZXIAAAAU421pbmYAAAAUdm1oZAAAAAEAAAAAAAAAAAAAACRkaW5mAAAAHGRyZWYAAAAAAAAA\n",
              "AQAAAAx1cmwgAAAAAQAAFKNzdGJsAAAAt3N0c2QAAAAAAAAAAQAAAKdhdmMxAAAAAAAAAAEAAAAA\n",
              "AAAAAAAAAAAAAAAAAoAB4ABIAAAASAAAAAAAAAABAAAAAAAAAAAAAAAAAAAAAAAAAAAAAAAAAAAA\n",
              "AAAAAAAAGP//AAAANWF2Y0MBZAAe/+EAGGdkAB6s2UCgPaEAAAMAAQAAAwAoDxYtlgEABmjr48si\n",
              "wP34+AAAAAAcdXVpZGtoQPJfJE/FujmlG88DI/MAAAAAAAAAGHN0dHMAAAAAAAAAAQAAAaIAAAIA\n",
              "AAAAGHN0c3MAAAAAAAAAAgAAAAEAAAD7AAAM6GN0dHMAAAAAAAABmwAAAAEAAAQAAAAAAQAACgAA\n",
              "AAABAAAEAAAAAAEAAAAAAAAAAQAAAgAAAAAGAAAEAAAAAAEAAAYAAAAAAQAAAgAAAAABAAAGAAAA\n",
              "AAEAAAIAAAAAAQAACgAAAAABAAAEAAAAAAEAAAAAAAAAAQAAAgAAAAABAAAKAAAAAAEAAAQAAAAA\n",
              "AQAAAAAAAAABAAACAAAAAAEAAAoAAAAAAQAABAAAAAABAAAAAAAAAAEAAAIAAAAAAQAACgAAAAAB\n",
              "AAAEAAAAAAEAAAAAAAAAAQAAAgAAAAABAAAKAAAAAAEAAAQAAAAAAQAAAAAAAAABAAACAAAAAAEA\n",
              "AAoAAAAAAQAABAAAAAABAAAAAAAAAAEAAAIAAAAAAQAACgAAAAABAAAEAAAAAAEAAAAAAAAAAQAA\n",
              "AgAAAAABAAAKAAAAAAEAAAQAAAAAAQAAAAAAAAABAAACAAAAAAEAAAoAAAAAAQAABAAAAAABAAAA\n",
              "AAAAAAEAAAIAAAAAAQAACgAAAAABAAAEAAAAAAEAAAAAAAAAAQAAAgAAAAABAAAKAAAAAAEAAAQA\n",
              "AAAAAQAAAAAAAAABAAACAAAAAAEAAAoAAAAAAQAABAAAAAABAAAAAAAAAAEAAAIAAAAAAQAACgAA\n",
              "AAABAAAEAAAAAAEAAAAAAAAAAQAAAgAAAAABAAAKAAAAAAEAAAQAAAAAAQAAAAAAAAABAAACAAAA\n",
              "AAEAAAoAAAAAAQAABAAAAAABAAAAAAAAAAEAAAIAAAAAAQAACgAAAAABAAAEAAAAAAEAAAAAAAAA\n",
              "AQAAAgAAAAABAAAKAAAAAAEAAAQAAAAAAQAAAAAAAAABAAACAAAAAAEAAAoAAAAAAQAABAAAAAAB\n",
              "AAAAAAAAAAEAAAIAAAAAAQAACgAAAAABAAAEAAAAAAEAAAAAAAAAAQAAAgAAAAABAAAKAAAAAAEA\n",
              "AAQAAAAAAQAAAAAAAAABAAACAAAAAAEAAAoAAAAAAQAABAAAAAABAAAAAAAAAAEAAAIAAAAAAQAA\n",
              "CgAAAAABAAAEAAAAAAEAAAAAAAAAAQAAAgAAAAABAAAKAAAAAAEAAAQAAAAAAQAAAAAAAAABAAAC\n",
              "AAAAAAEAAAoAAAAAAQAABAAAAAABAAAAAAAAAAEAAAIAAAAAAQAACgAAAAABAAAEAAAAAAEAAAAA\n",
              "AAAAAQAAAgAAAAABAAAKAAAAAAEAAAQAAAAAAQAAAAAAAAABAAACAAAAAAEAAAoAAAAAAQAABAAA\n",
              "AAABAAAAAAAAAAEAAAIAAAAAAQAACgAAAAABAAAEAAAAAAEAAAAAAAAAAQAAAgAAAAABAAAKAAAA\n",
              "AAEAAAQAAAAAAQAAAAAAAAABAAACAAAAAAEAAAoAAAAAAQAABAAAAAABAAAAAAAAAAEAAAIAAAAA\n",
              "AQAACgAAAAABAAAEAAAAAAEAAAAAAAAAAQAAAgAAAAABAAAKAAAAAAEAAAQAAAAAAQAAAAAAAAAB\n",
              "AAACAAAAAAEAAAoAAAAAAQAABAAAAAABAAAAAAAAAAEAAAIAAAAAAQAACgAAAAABAAAEAAAAAAEA\n",
              "AAAAAAAAAQAAAgAAAAABAAAKAAAAAAEAAAQAAAAAAQAAAAAAAAABAAACAAAAAAEAAAoAAAAAAQAA\n",
              "BAAAAAABAAAAAAAAAAEAAAIAAAAAAQAACgAAAAABAAAEAAAAAAEAAAAAAAAAAQAAAgAAAAABAAAK\n",
              "AAAAAAEAAAQAAAAAAQAAAAAAAAABAAACAAAAAAEAAAoAAAAAAQAABAAAAAABAAAAAAAAAAEAAAIA\n",
              "AAAAAQAACgAAAAABAAAEAAAAAAEAAAAAAAAAAQAAAgAAAAABAAAKAAAAAAEAAAQAAAAAAQAAAAAA\n",
              "AAABAAACAAAAAAEAAAoAAAAAAQAABAAAAAABAAAAAAAAAAEAAAIAAAAAAQAACgAAAAABAAAEAAAA\n",
              "AAEAAAAAAAAAAQAAAgAAAAABAAAKAAAAAAEAAAQAAAAAAQAAAAAAAAABAAACAAAAAAEAAAoAAAAA\n",
              "AQAABAAAAAABAAAAAAAAAAEAAAIAAAAAAQAACgAAAAABAAAEAAAAAAEAAAAAAAAAAQAAAgAAAAAB\n",
              "AAAKAAAAAAEAAAQAAAAAAQAAAAAAAAABAAACAAAAAAEAAAoAAAAAAQAABAAAAAABAAAAAAAAAAEA\n",
              "AAIAAAAAAQAACgAAAAABAAAEAAAAAAEAAAAAAAAAAQAAAgAAAAABAAAKAAAAAAEAAAQAAAAAAQAA\n",
              "AAAAAAABAAACAAAAAAEAAAoAAAAAAQAABAAAAAABAAAAAAAAAAEAAAIAAAAAAQAACgAAAAABAAAE\n",
              "AAAAAAEAAAAAAAAAAQAAAgAAAAABAAAKAAAAAAEAAAQAAAAAAQAAAAAAAAABAAACAAAAAAEAAAoA\n",
              "AAAAAQAABAAAAAABAAAAAAAAAAEAAAIAAAAAAQAACgAAAAABAAAEAAAAAAEAAAAAAAAAAQAAAgAA\n",
              "AAABAAAKAAAAAAEAAAQAAAAAAQAAAAAAAAABAAACAAAAAAEAAAoAAAAAAQAABAAAAAABAAAAAAAA\n",
              "AAEAAAIAAAAAAQAACgAAAAABAAAEAAAAAAEAAAAAAAAAAQAAAgAAAAABAAAIAAAAAAIAAAIAAAAA\n",
              "AQAABAAAAAABAAAKAAAAAAEAAAQAAAAAAQAAAAAAAAABAAACAAAAAAEAAAoAAAAAAQAABAAAAAAB\n",
              "AAAAAAAAAAEAAAIAAAAAAQAACgAAAAABAAAEAAAAAAEAAAAAAAAAAQAAAgAAAAABAAAKAAAAAAEA\n",
              "AAQAAAAAAQAAAAAAAAABAAACAAAAAAEAAAoAAAAAAQAABAAAAAABAAAAAAAAAAEAAAIAAAAAAQAA\n",
              "CgAAAAABAAAEAAAAAAEAAAAAAAAAAQAAAgAAAAABAAAKAAAAAAEAAAQAAAAAAQAAAAAAAAABAAAC\n",
              "AAAAAAEAAAoAAAAAAQAABAAAAAABAAAAAAAAAAEAAAIAAAAAAQAACgAAAAABAAAEAAAAAAEAAAAA\n",
              "AAAAAQAAAgAAAAABAAAKAAAAAAEAAAQAAAAAAQAAAAAAAAABAAACAAAAAAEAAAoAAAAAAQAABAAA\n",
              "AAABAAAAAAAAAAEAAAIAAAAAAQAACgAAAAABAAAEAAAAAAEAAAAAAAAAAQAAAgAAAAABAAAKAAAA\n",
              "AAEAAAQAAAAAAQAAAAAAAAABAAACAAAAAAEAAAoAAAAAAQAABAAAAAABAAAAAAAAAAEAAAIAAAAA\n",
              "AQAACgAAAAABAAAEAAAAAAEAAAAAAAAAAQAAAgAAAAABAAAKAAAAAAEAAAQAAAAAAQAAAAAAAAAB\n",
              "AAACAAAAAAEAAAoAAAAAAQAABAAAAAABAAAAAAAAAAEAAAIAAAAAAQAACgAAAAABAAAEAAAAAAEA\n",
              "AAAAAAAAAQAAAgAAAAABAAAKAAAAAAEAAAQAAAAAAQAAAAAAAAABAAACAAAAAAEAAAoAAAAAAQAA\n",
              "BAAAAAABAAAAAAAAAAEAAAIAAAAAAQAACgAAAAABAAAEAAAAAAEAAAAAAAAAAQAAAgAAAAABAAAK\n",
              "AAAAAAEAAAQAAAAAAQAAAAAAAAABAAACAAAAAAEAAAoAAAAAAQAABAAAAAABAAAAAAAAAAEAAAIA\n",
              "AAAAAQAACgAAAAABAAAEAAAAAAEAAAAAAAAAAQAAAgAAAAABAAAKAAAAAAEAAAQAAAAAAQAAAAAA\n",
              "AAABAAACAAAAAAEAAAoAAAAAAQAABAAAAAABAAAAAAAAAAEAAAIAAAAAAQAACgAAAAABAAAEAAAA\n",
              "AAEAAAAAAAAAAQAAAgAAAAABAAAKAAAAAAEAAAQAAAAAAQAAAAAAAAABAAACAAAAAAEAAAoAAAAA\n",
              "AQAABAAAAAABAAAAAAAAAAEAAAIAAAAAAQAACgAAAAABAAAEAAAAAAEAAAAAAAAAAQAAAgAAAAAB\n",
              "AAAKAAAAAAEAAAQAAAAAAQAAAAAAAAABAAACAAAAAAEAAAoAAAAAAQAABAAAAAABAAAAAAAAAAEA\n",
              "AAIAAAAAAQAACgAAAAABAAAEAAAAAAEAAAAAAAAAAQAAAgAAAAABAAAKAAAAAAEAAAQAAAAAAQAA\n",
              "AAAAAAABAAACAAAAAAEAAAoAAAAAAQAABAAAAAABAAAAAAAAAAEAAAIAAAAAAQAACgAAAAABAAAE\n",
              "AAAAAAEAAAAAAAAAAQAAAgAAAAABAAAKAAAAAAEAAAQAAAAAAQAAAAAAAAABAAACAAAAAAEAAAoA\n",
              "AAAAAQAABAAAAAABAAAAAAAAAAEAAAIAAAAAAQAACgAAAAABAAAEAAAAAAEAAAAAAAAAAQAAAgAA\n",
              "AAABAAAKAAAAAAEAAAQAAAAAAQAAAAAAAAABAAACAAAAAAEAAAoAAAAAAQAABAAAAAABAAAAAAAA\n",
              "AAEAAAIAAAAAAQAACAAAAAACAAACAAAAABxzdHNjAAAAAAAAAAEAAAABAAABogAAAAEAAAacc3Rz\n",
              "egAAAAAAAAAAAAABogAADusAAAKAAAABrQAAAYEAAAE+AAABaAAAAW8AAAE5AAABNAAAAUIAAAE8\n",
              "AAABtQAAAFIAAAGYAAAATQAAAeAAAABpAAAASAAAAEUAAAFWAAAAWQAAAEEAAAA4AAABQQAAAEgA\n",
              "AAAxAAAAMAAAAKQAAAA2AAAAKgAAACYAAABzAAAAKwAAAB0AAAAdAAAAWQAAACsAAAAeAAAAIAAA\n",
              "AIMAAAAyAAAAJQAAACwAAAC8AAAANAAAACQAAAAnAAAAnAAAADkAAAApAAAAKAAAAJ0AAAA4AAAA\n",
              "KQAAAC4AAADiAAAAOwAAADEAAAAyAAAAtgAAAEcAAAAuAAAAPwAAANsAAAA/AAAANwAAAD4AAADA\n",
              "AAAAQgAAADAAAAAwAAAAygAAAEcAAAAuAAAAPAAAANAAAAA/AAAAKQAAAC0AAADaAAAAPAAAACwA\n",
              "AAA4AAAAuQAAADUAAAAvAAAAMAAAAPEAAAA5AAAAJgAAACcAAADmAAAANAAAACoAAAAlAAAAswAA\n",
              "ADkAAAAqAAAAKQAAAMcAAAA1AAAAKgAAACkAAADgAAAAOQAAACYAAAAmAAAA2gAAADUAAAAmAAAA\n",
              "JwAAALYAAAAzAAAAHwAAACMAAADWAAAAMAAAACYAAAAjAAAAuQAAADMAAAAeAAAAGQAAAN8AAAA1\n",
              "AAAAGgAAACEAAACzAAAAKQAAABsAAAAdAAAAcAAAAC0AAAAiAAAAGAAAAKYAAAApAAAAGAAAACAA\n",
              "AACRAAAAIwAAABsAAAAdAAAAYgAAACYAAAAdAAAAHQAAAF4AAAAlAAAAHQAAAB0AAAA6AAAAJQAA\n",
              "AB0AAAAbAAAAUQAAACYAAAAdAAAAGwAAAHEAAAAlAAAAGwAAAB0AAABIAAAAJwAAAB0AAAAZAAAA\n",
              "rgAAACoAAAAeAAAAGwAAAGcAAAAlAAAAGwAAABsAAACUAAAAKQAAAB0AAAAdAAAAkAAAACMAAAAd\n",
              "AAAAGQAAAIQAAAAlAAAAGQAAAB0AAACaAAAAKwAAACEAAAAdAAAAlQAAACUAAAAdAAAAGwAAAHIA\n",
              "AAArAAAAIwAAABsAAACAAAAAIwAAABkAAAAZAAAAsgAAACQAAAAeAAAAHQAAAI0AAAAkAAAAGwAA\n",
              "ABsAAACBAAAAIAAAABsAAAAZAAAAkQAAACUAAAAZAAAAHgAAAGcAAAAlAAAAGQAAABkAAAB2AAAA\n",
              "IwAAABkAAAAZAAAAdQAAACgAAAAcAAAAGQAAAIgAAAAjAAAAGwAAABwAAAB1AAAAIwAAABkAAAAZ\n",
              "AAAAbQAAACEAAAAZAAAAGQAAAHIAAAAhAAAAGwAAABkAAAAcAAAAIQAAABkAABH5AAAAUAAAABQA\n",
              "AAAWAAAAFAAAAFIAAAAWAAAAFAAAABQAAABTAAAAGAAAABQAAAAUAAAAWQAAABwAAAAWAAAAFAAA\n",
              "ACUAAAAYAAAAFAAAABQAAABDAAAAGAAAABQAAAAUAAAAHQAAABgAAAAUAAAAFAAAAB0AAAAYAAAA\n",
              "FAAAABQAAAAdAAAAGAAAABQAAAAUAAAAKAAAABgAAAAUAAAAFAAAAEYAAAAcAAAAFwAAABQAAAAy\n",
              "AAAAGAAAABUAAAAUAAAASAAAABgAAAAUAAAAFAAAAEEAAAAYAAAAFAAAABQAAABSAAAAGAAAABQA\n",
              "AAAUAAAASgAAABYAAAAVAAAAFAAAAEgAAAAWAAAAFAAAABQAAABDAAAAFgAAABQAAAAUAAAAbQAA\n",
              "ABsAAAAUAAAAFAAAAFAAAAAWAAAAFAAAABQAAABfAAAAFwAAABQAAAAUAAAARwAAABYAAAAUAAAA\n",
              "FAAAAEsAAAAWAAAAFAAAABQAAABzAAAAFgAAABQAAAAUAAAASgAAABYAAAAUAAAAFAAAAGwAAAAW\n",
              "AAAAFQAAABQAAAA8AAAAFwAAABQAAAAUAAAAUQAAABcAAAAUAAAAFAAAACgAAAAWAAAAFAAAABQA\n",
              "AABqAAAAFgAAABQAAAAUAAAAOQAAABYAAAAUAAAAFAAAAEAAAAAWAAAAFAAAABQAAAAyAAAAFgAA\n",
              "ABQAAAAUAAAAHQAAABYAAAAUAAAAFAAAAB0AAAAWAAAAFAAAABQAAAAdAAAAFgAAABQAAAAUAAAA\n",
              "HQAAABYAAAAUAAAAFAAAAB0AAAAWAAAAFAAAABQAAAAdAAAAFgAAABQAAAAUAAAAHQAAABYAAAAU\n",
              "AAAAFAAAAB0AAAAWAAAAFAAAABQAAAAcAAAAFgAAABQAAAAUc3RjbwAAAAAAAAABAAAAMAAAAGJ1\n",
              "ZHRhAAAAWm1ldGEAAAAAAAAAIWhkbHIAAAAAAAAAAG1kaXJhcHBsAAAAAAAAAAAAAAAALWlsc3QA\n",
              "AAAlqXRvbwAAAB1kYXRhAAAAAQAAAABMYXZmNTguNzYuMTAw\n",
              "\">\n",
              "  Your browser does not support the video tag.\n",
              "</video>"
            ]
          },
          "metadata": {},
          "execution_count": 19
        },
        {
          "output_type": "display_data",
          "data": {
            "text/plain": [
              "<Figure size 640x480 with 1 Axes>"
            ],
            "image/png": "[encoded data removed]"
          },
          "metadata": {}
        }
      ]
    },
    {
      "cell_type": "markdown",
      "source": [
        "## **Conclusión**"
      ],
      "metadata": {
        "id": "1WqAhzGl9K6Q"
      }
    },
    {
      "cell_type": "markdown",
      "source": [
        "En conclusión, este trabajo ha abordado diversas técnicas de diseño y análisis de sistemas de control utilizando Python como herramienta principal. Mediante la implementación de controladores PID utilizando métodos como Ziegler-Nichols y Cohen-Coon, así como el ajuste de respuesta en frecuencia, hemos demostrado la versatilidad y eficacia de estas técnicas en la sintonización de sistemas de control para alcanzar objetivos de rendimiento deseados. Además, hemos utilizado herramientas como la visualización de polos y la aplicación del criterio de Routh-Hurwitz para evaluar la estabilidad de los sistemas de control. Los resultados obtenidos han mostrado la capacidad de los controladores PID sintonizados para lograr estabilidad y mejorar el rendimiento del sistema. Este trabajo sienta las bases para investigaciones futuras en el campo de los sistemas de control, incluyendo la aplicación de técnicas más avanzadas y el análisis de sistemas más complejos."
      ],
      "metadata": {
        "id": "eJ7EZ4v69PJO"
      }
    },
    {
      "cell_type": "markdown",
      "source": [
        "## **Referencias**"
      ],
      "metadata": {
        "id": "wXQMSBaC97BM"
      }
    },
    {
      "cell_type": "markdown",
      "source": [
        "[1] Pdf de las indicaciones para hacer la práctica\n",
        "\n",
        "[2] Controlador PID - Control automático - Picuino. (s.f.). https://www.picuino.com/es/control-pid.html\n",
        "\n",
        "[3] http://verona.fi-p.unam.mx/~lfridman/clases/modos/cap4.pdf\n",
        "\n"
      ],
      "metadata": {
        "id": "-nzYERQIANRD"
      }
    },
    {
      "cell_type": "code",
      "source": [
        "!git version\n",
        "!git config --global user.email \"celiadiazsanchez@gmail.com\"\n",
        "!git config --global user.name \"Celia\"\n",
        "!git clone --branch  Practica_final https://github.com/CeliaDiazSanchez/Sistemas__Control.git\n",
        "!ls /content/Sistemas__Control/\n",
        "%cd Sistemas__Control"
      ],
      "metadata": {
        "id": "dSZ_bnFPrHQk",
        "outputId": "7203161f-d5e8-48e9-b79c-cd5c41fa0f0f",
        "colab": {
          "base_uri": "https://localhost:8080/"
        }
      },
      "execution_count": 28,
      "outputs": [
        {
          "output_type": "stream",
          "name": "stdout",
          "text": [
            "git version 2.34.1\n",
            "fatal: destination path 'Sistemas__Control' already exists and is not an empty directory.\n",
            "PF.ipynb  README.md\n",
            "/content/Sistemas__Control\n"
          ]
        }
      ]
    },
    {
      "cell_type": "code",
      "source": [
        "!jupyter nbconvert --to html PF"
      ],
      "metadata": {
        "id": "sugCML05n3JE",
        "outputId": "28e64cfa-6ea3-4cc8-b6d6-52701571d9ab",
        "colab": {
          "base_uri": "https://localhost:8080/"
        }
      },
      "execution_count": 29,
      "outputs": [
        {
          "output_type": "stream",
          "name": "stdout",
          "text": [
            "[NbConvertApp] Converting notebook PF.ipynb to html\n",
            "[NbConvertApp] Writing 859211 bytes to PF.html\n"
          ]
        }
      ]
    }
  ]
}